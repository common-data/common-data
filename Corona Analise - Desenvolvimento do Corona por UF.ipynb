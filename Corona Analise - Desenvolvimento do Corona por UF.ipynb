{
 "cells": [
  {
   "cell_type": "markdown",
   "metadata": {},
   "source": [
    "# Desenvolvimento do Corona por UF\n",
    "Esse trabalho mostra quantos dias demorou para cada estado ter seu desenvolvimento de casos."
   ]
  },
  {
   "cell_type": "code",
   "execution_count": 1,
   "metadata": {},
   "outputs": [],
   "source": [
    "import pandas as pd\n",
    "from datetime import date\n",
    "import numpy as np\n",
    "import matplotlib.pyplot as plt\n",
    "import matplotlib"
   ]
  },
  {
   "cell_type": "code",
   "execution_count": 2,
   "metadata": {},
   "outputs": [
    {
     "data": {
      "text/html": [
       "<div>\n",
       "<style scoped>\n",
       "    .dataframe tbody tr th:only-of-type {\n",
       "        vertical-align: middle;\n",
       "    }\n",
       "\n",
       "    .dataframe tbody tr th {\n",
       "        vertical-align: top;\n",
       "    }\n",
       "\n",
       "    .dataframe thead th {\n",
       "        text-align: right;\n",
       "    }\n",
       "</style>\n",
       "<table border=\"1\" class=\"dataframe\">\n",
       "  <thead>\n",
       "    <tr style=\"text-align: right;\">\n",
       "      <th></th>\n",
       "      <th>COD_MUN</th>\n",
       "      <th>latitude</th>\n",
       "      <th>longitude</th>\n",
       "      <th>COD_UF</th>\n",
       "      <th>DS_MUN</th>\n",
       "      <th>DS_MESO</th>\n",
       "      <th>DS_UF</th>\n",
       "      <th>date</th>\n",
       "      <th>epidemiological_week</th>\n",
       "      <th>estimated_population_2019</th>\n",
       "      <th>...</th>\n",
       "      <th>last_available_confirmed</th>\n",
       "      <th>last_available_confirmed_per_100k_inhabitants</th>\n",
       "      <th>last_available_date</th>\n",
       "      <th>last_available_death_rate</th>\n",
       "      <th>last_available_deaths</th>\n",
       "      <th>order_for_place</th>\n",
       "      <th>place_type</th>\n",
       "      <th>state</th>\n",
       "      <th>new_confirmed</th>\n",
       "      <th>new_deaths</th>\n",
       "    </tr>\n",
       "  </thead>\n",
       "  <tbody>\n",
       "    <tr>\n",
       "      <th>0</th>\n",
       "      <td>1100015.0</td>\n",
       "      <td>-11.9283</td>\n",
       "      <td>-61.9953</td>\n",
       "      <td>11.0</td>\n",
       "      <td>Alta Floresta D'Oeste</td>\n",
       "      <td>Leste Rondoniense</td>\n",
       "      <td>Rondônia</td>\n",
       "      <td>2020-05-02</td>\n",
       "      <td>18</td>\n",
       "      <td>22945.0</td>\n",
       "      <td>...</td>\n",
       "      <td>1</td>\n",
       "      <td>435825.0</td>\n",
       "      <td>2020-05-02</td>\n",
       "      <td>0.0</td>\n",
       "      <td>0</td>\n",
       "      <td>1</td>\n",
       "      <td>city</td>\n",
       "      <td>RO</td>\n",
       "      <td>1</td>\n",
       "      <td>0</td>\n",
       "    </tr>\n",
       "  </tbody>\n",
       "</table>\n",
       "<p>1 rows × 22 columns</p>\n",
       "</div>"
      ],
      "text/plain": [
       "     COD_MUN  latitude  longitude  COD_UF                 DS_MUN  \\\n",
       "0  1100015.0  -11.9283   -61.9953    11.0  Alta Floresta D'Oeste   \n",
       "\n",
       "             DS_MESO     DS_UF       date  epidemiological_week  \\\n",
       "0  Leste Rondoniense  Rondônia 2020-05-02                    18   \n",
       "\n",
       "   estimated_population_2019  ...  last_available_confirmed  \\\n",
       "0                    22945.0  ...                         1   \n",
       "\n",
       "   last_available_confirmed_per_100k_inhabitants  last_available_date  \\\n",
       "0                                       435825.0           2020-05-02   \n",
       "\n",
       "   last_available_death_rate last_available_deaths  order_for_place  \\\n",
       "0                        0.0                     0                1   \n",
       "\n",
       "   place_type  state new_confirmed new_deaths  \n",
       "0        city     RO             1          0  \n",
       "\n",
       "[1 rows x 22 columns]"
      ]
     },
     "execution_count": 2,
     "metadata": {},
     "output_type": "execute_result"
    }
   ],
   "source": [
    "# Importing the Excel file with all the cities\n",
    "covid_munic = pd.read_excel(\"cos_full_mun.xlsx\")\n",
    "covid_munic.head(1)"
   ]
  },
  {
   "cell_type": "code",
   "execution_count": 3,
   "metadata": {},
   "outputs": [
    {
     "name": "stdout",
     "output_type": "stream",
     "text": [
      "Last updated in: 13/05/2020\n"
     ]
    }
   ],
   "source": [
    "print(\"Last updated in: {:%d/%m/%Y}\".format(max(covid_munic[\"date\"])))"
   ]
  },
  {
   "cell_type": "code",
   "execution_count": 4,
   "metadata": {},
   "outputs": [
    {
     "name": "stderr",
     "output_type": "stream",
     "text": [
      "C:\\Users\\Camila\\anaconda3\\lib\\site-packages\\ipykernel_launcher.py:5: FutureWarning: Indexing with multiple keys (implicitly converted to a tuple of keys) will be deprecated, use a list instead.\n",
      "  \"\"\"\n"
     ]
    },
    {
     "data": {
      "text/html": [
       "<div>\n",
       "<style scoped>\n",
       "    .dataframe tbody tr th:only-of-type {\n",
       "        vertical-align: middle;\n",
       "    }\n",
       "\n",
       "    .dataframe tbody tr th {\n",
       "        vertical-align: top;\n",
       "    }\n",
       "\n",
       "    .dataframe thead th {\n",
       "        text-align: right;\n",
       "    }\n",
       "</style>\n",
       "<table border=\"1\" class=\"dataframe\">\n",
       "  <thead>\n",
       "    <tr style=\"text-align: right;\">\n",
       "      <th></th>\n",
       "      <th>state</th>\n",
       "      <th>date</th>\n",
       "      <th>new_confirmed</th>\n",
       "      <th>new_deaths</th>\n",
       "      <th>Cumulative Confirmed</th>\n",
       "      <th>Cumulative Death</th>\n",
       "    </tr>\n",
       "  </thead>\n",
       "  <tbody>\n",
       "    <tr>\n",
       "      <th>1654</th>\n",
       "      <td>TO</td>\n",
       "      <td>2020-05-10</td>\n",
       "      <td>59</td>\n",
       "      <td>1</td>\n",
       "      <td>747</td>\n",
       "      <td>12</td>\n",
       "    </tr>\n",
       "    <tr>\n",
       "      <th>1655</th>\n",
       "      <td>TO</td>\n",
       "      <td>2020-05-11</td>\n",
       "      <td>81</td>\n",
       "      <td>2</td>\n",
       "      <td>828</td>\n",
       "      <td>14</td>\n",
       "    </tr>\n",
       "  </tbody>\n",
       "</table>\n",
       "</div>"
      ],
      "text/plain": [
       "     state       date  new_confirmed  new_deaths  Cumulative Confirmed  \\\n",
       "1654    TO 2020-05-10             59           1                   747   \n",
       "1655    TO 2020-05-11             81           2                   828   \n",
       "\n",
       "      Cumulative Death  \n",
       "1654                12  \n",
       "1655                14  "
      ]
     },
     "execution_count": 4,
     "metadata": {},
     "output_type": "execute_result"
    }
   ],
   "source": [
    "# We just need it by UF, so let's aggregate them\n",
    "# Only leaving cases where we have at least one confirmed or one death\n",
    "# And then create a cumulative frequency for confirmed cases and death \n",
    "\n",
    "covid_uf = covid_munic.groupby([\"state\", \"date\"])[\"new_confirmed\", \"new_deaths\"].sum().reset_index()\n",
    "\n",
    "covid_uf = covid_uf[(covid_uf[\"new_confirmed\"] > 0) | (covid_uf[\"new_deaths\"] > 0)]\n",
    "\n",
    "covid_uf[\"date\"] = pd.to_datetime(covid_uf['date'], format=\"%Y/%m/%d\")\n",
    "\n",
    "covid_uf['Cumulative Confirmed'] = covid_uf.groupby('state')['new_confirmed'].cumsum()\n",
    "covid_uf['Cumulative Death'] = covid_uf.groupby('state')['new_deaths'].cumsum()\n",
    "covid_uf.tail(2)"
   ]
  },
  {
   "cell_type": "code",
   "execution_count": 5,
   "metadata": {},
   "outputs": [
    {
     "name": "stdout",
     "output_type": "stream",
     "text": [
      "First date: 25/02/2020\n",
      "Last updated in: 13/05/2020\n"
     ]
    }
   ],
   "source": [
    "print(\"First date: {:%d/%m/%Y}\".format(min(covid_uf[\"date\"])))\n",
    "print(\"Last updated in: {:%d/%m/%Y}\".format(max(covid_uf[\"date\"])))"
   ]
  },
  {
   "cell_type": "code",
   "execution_count": 6,
   "metadata": {},
   "outputs": [
    {
     "data": {
      "text/plain": [
       "date\n",
       "2020-05-09    25\n",
       "2020-05-10    25\n",
       "2020-05-11    27\n",
       "2020-05-12    23\n",
       "2020-05-13     3\n",
       "Name: state, dtype: int64"
      ]
     },
     "execution_count": 6,
     "metadata": {},
     "output_type": "execute_result"
    }
   ],
   "source": [
    "covid_uf.groupby(\"date\")[\"state\"].count().tail(5)"
   ]
  },
  {
   "cell_type": "code",
   "execution_count": 7,
   "metadata": {},
   "outputs": [
    {
     "name": "stdout",
     "output_type": "stream",
     "text": [
      "We have 23 states with last updated in: 12/05/2020\n"
     ]
    }
   ],
   "source": [
    "# Because we only have 3 states on our last date, we will delete it\n",
    "covid_uf = covid_uf[ covid_uf[\"date\"] < max(covid_uf[\"date\"])]\n",
    "print(\"We have {} states with last updated in: {:%d/%m/%Y}\".\n",
    "      format(covid_uf[covid_uf[\"date\"] == max(covid_uf[\"date\"])] [\"state\"].count(), \n",
    "             max(covid_uf[\"date\"])))"
   ]
  },
  {
   "cell_type": "code",
   "execution_count": 8,
   "metadata": {},
   "outputs": [
    {
     "name": "stdout",
     "output_type": "stream",
     "text": [
      "First confirmed and death in Brasil: 25/02/2020 and 17/03/2020\n"
     ]
    }
   ],
   "source": [
    "# Getting first cases in Brazil for confirmed and death\n",
    "last_updated = max(covid_uf[\"date\"])\n",
    "first_br_confirmed = covid_uf[covid_uf[\"new_confirmed\"] > 0][\"date\"].min()\n",
    "first_br_death = covid_uf[covid_uf[\"new_deaths\"] > 0][\"date\"].min()\n",
    "print(\"First confirmed and death in Brasil: {:%d/%m/%Y} and {:%d/%m/%Y}\".format(first_br_confirmed, first_br_death))"
   ]
  },
  {
   "cell_type": "code",
   "execution_count": 9,
   "metadata": {},
   "outputs": [
    {
     "name": "stderr",
     "output_type": "stream",
     "text": [
      "C:\\Users\\Camila\\anaconda3\\lib\\site-packages\\ipykernel_launcher.py:2: FutureWarning: Indexing with multiple keys (implicitly converted to a tuple of keys) will be deprecated, use a list instead.\n",
      "  \n"
     ]
    },
    {
     "data": {
      "text/html": [
       "<div>\n",
       "<style scoped>\n",
       "    .dataframe tbody tr th:only-of-type {\n",
       "        vertical-align: middle;\n",
       "    }\n",
       "\n",
       "    .dataframe tbody tr th {\n",
       "        vertical-align: top;\n",
       "    }\n",
       "\n",
       "    .dataframe thead th {\n",
       "        text-align: right;\n",
       "    }\n",
       "</style>\n",
       "<table border=\"1\" class=\"dataframe\">\n",
       "  <thead>\n",
       "    <tr style=\"text-align: right;\">\n",
       "      <th></th>\n",
       "      <th>new_confirmed</th>\n",
       "      <th>new_deaths</th>\n",
       "      <th>Date Case 1 in UF</th>\n",
       "      <th>Date first death in UF</th>\n",
       "      <th>Dias entre Caso 1 brasileiro e Caso 1 na UF</th>\n",
       "      <th>Dias entre Caso 1 brasileiro e morte na UF</th>\n",
       "      <th>Date Case 100 in UF</th>\n",
       "      <th>Dias entre Caso 1 e 100 na UF</th>\n",
       "      <th>Date Case 250 in UF</th>\n",
       "      <th>Dias entre Caso 100 e 250 na UF</th>\n",
       "      <th>Date Case 500 in UF</th>\n",
       "      <th>Dias entre Caso 250 e 500 na UF</th>\n",
       "      <th>Date Case 1000 in UF</th>\n",
       "      <th>Dias entre Caso 500 e 1000 na UF</th>\n",
       "      <th>Date Case 2000 in UF</th>\n",
       "      <th>Dias entre Caso 1000 e 2000 na UF</th>\n",
       "      <th>Date Case 5000 in UF</th>\n",
       "      <th>Dias entre Caso 2000 e 5000 na UF</th>\n",
       "      <th>Date Case 10000 in UF</th>\n",
       "      <th>Dias entre Caso 5000 e 10000 na UF</th>\n",
       "    </tr>\n",
       "    <tr>\n",
       "      <th>state</th>\n",
       "      <th></th>\n",
       "      <th></th>\n",
       "      <th></th>\n",
       "      <th></th>\n",
       "      <th></th>\n",
       "      <th></th>\n",
       "      <th></th>\n",
       "      <th></th>\n",
       "      <th></th>\n",
       "      <th></th>\n",
       "      <th></th>\n",
       "      <th></th>\n",
       "      <th></th>\n",
       "      <th></th>\n",
       "      <th></th>\n",
       "      <th></th>\n",
       "      <th></th>\n",
       "      <th></th>\n",
       "      <th></th>\n",
       "      <th></th>\n",
       "    </tr>\n",
       "  </thead>\n",
       "  <tbody>\n",
       "    <tr>\n",
       "      <th>MT</th>\n",
       "      <td>604</td>\n",
       "      <td>20</td>\n",
       "      <td>2020-03-20</td>\n",
       "      <td>2020-04-03</td>\n",
       "      <td>24</td>\n",
       "      <td>38</td>\n",
       "      <td>2020-04-09</td>\n",
       "      <td>20</td>\n",
       "      <td>2020-04-27</td>\n",
       "      <td>18</td>\n",
       "      <td>2020-05-09</td>\n",
       "      <td>12.0</td>\n",
       "      <td>NaT</td>\n",
       "      <td>NaN</td>\n",
       "      <td>NaT</td>\n",
       "      <td>NaN</td>\n",
       "      <td>NaT</td>\n",
       "      <td>NaN</td>\n",
       "      <td>NaT</td>\n",
       "      <td>NaN</td>\n",
       "    </tr>\n",
       "    <tr>\n",
       "      <th>MS</th>\n",
       "      <td>405</td>\n",
       "      <td>12</td>\n",
       "      <td>2020-03-14</td>\n",
       "      <td>2020-03-31</td>\n",
       "      <td>18</td>\n",
       "      <td>35</td>\n",
       "      <td>2020-04-12</td>\n",
       "      <td>29</td>\n",
       "      <td>2020-04-30</td>\n",
       "      <td>18</td>\n",
       "      <td>NaT</td>\n",
       "      <td>NaN</td>\n",
       "      <td>NaT</td>\n",
       "      <td>NaN</td>\n",
       "      <td>NaT</td>\n",
       "      <td>NaN</td>\n",
       "      <td>NaT</td>\n",
       "      <td>NaN</td>\n",
       "      <td>NaT</td>\n",
       "      <td>NaN</td>\n",
       "    </tr>\n",
       "  </tbody>\n",
       "</table>\n",
       "</div>"
      ],
      "text/plain": [
       "       new_confirmed  new_deaths Date Case 1 in UF Date first death in UF  \\\n",
       "state                                                                       \n",
       "MT               604          20        2020-03-20             2020-04-03   \n",
       "MS               405          12        2020-03-14             2020-03-31   \n",
       "\n",
       "       Dias entre Caso 1 brasileiro e Caso 1 na UF  \\\n",
       "state                                                \n",
       "MT                                              24   \n",
       "MS                                              18   \n",
       "\n",
       "       Dias entre Caso 1 brasileiro e morte na UF Date Case 100 in UF  \\\n",
       "state                                                                   \n",
       "MT                                             38          2020-04-09   \n",
       "MS                                             35          2020-04-12   \n",
       "\n",
       "       Dias entre Caso 1 e 100 na UF Date Case 250 in UF  \\\n",
       "state                                                      \n",
       "MT                                20          2020-04-27   \n",
       "MS                                29          2020-04-30   \n",
       "\n",
       "       Dias entre Caso 100 e 250 na UF Date Case 500 in UF  \\\n",
       "state                                                        \n",
       "MT                                  18          2020-05-09   \n",
       "MS                                  18                 NaT   \n",
       "\n",
       "       Dias entre Caso 250 e 500 na UF Date Case 1000 in UF  \\\n",
       "state                                                         \n",
       "MT                                12.0                  NaT   \n",
       "MS                                 NaN                  NaT   \n",
       "\n",
       "       Dias entre Caso 500 e 1000 na UF Date Case 2000 in UF  \\\n",
       "state                                                          \n",
       "MT                                  NaN                  NaT   \n",
       "MS                                  NaN                  NaT   \n",
       "\n",
       "       Dias entre Caso 1000 e 2000 na UF Date Case 5000 in UF  \\\n",
       "state                                                           \n",
       "MT                                   NaN                  NaT   \n",
       "MS                                   NaN                  NaT   \n",
       "\n",
       "       Dias entre Caso 2000 e 5000 na UF Date Case 10000 in UF  \\\n",
       "state                                                            \n",
       "MT                                   NaN                   NaT   \n",
       "MS                                   NaN                   NaT   \n",
       "\n",
       "       Dias entre Caso 5000 e 10000 na UF  \n",
       "state                                      \n",
       "MT                                    NaN  \n",
       "MS                                    NaN  "
      ]
     },
     "execution_count": 9,
     "metadata": {},
     "output_type": "execute_result"
    }
   ],
   "source": [
    "# Now let's get a summary for the UF\n",
    "covid_uf_summary = covid_uf.groupby(\"state\")[\"new_confirmed\", \"new_deaths\"].sum().sort_values(by=\"new_confirmed\", ascending = False)\n",
    "\n",
    "covid_uf_summary[\"Date Case 1 in UF\"] = covid_uf[covid_uf[\"new_confirmed\"] > 0].groupby(\"state\")[\"date\"].min()\n",
    "covid_uf_summary[\"Date first death in UF\"] = covid_uf[covid_uf[\"new_deaths\"] > 0].groupby(\"state\")[\"date\"].min()\n",
    "covid_uf_summary[\"Dias entre Caso 1 brasileiro e Caso 1 na UF\"] = (covid_uf_summary[\"Date Case 1 in UF\"] - first_br_confirmed).dt.days\n",
    "covid_uf_summary[\"Dias entre Caso 1 brasileiro e morte na UF\"] = (covid_uf_summary[\"Date first death in UF\"] - first_br_confirmed).dt.days\n",
    "\n",
    "#Creating variables for each slice - YOU CAN CHANGE THOSE NUMBERS IF YOU WANT\n",
    "cases_slice = [1, 100, 250, 500, 1000, 2000, 5000, 10000]\n",
    "for s in range(1, len(cases_slice)):\n",
    "    num_cases = cases_slice[s]\n",
    "    num_cases_pre = cases_slice[s-1]\n",
    "    covid_uf_summary[\"Date Case {} in UF\".format(str(num_cases\n",
    "                                                    ))] = covid_uf[covid_uf[\"Cumulative Confirmed\"] > \n",
    "                                                                   num_cases].groupby(\"state\")[\"date\"].min()\n",
    "    covid_uf_summary[\"Dias entre Caso {} e {} na UF\".format(\n",
    "        str(num_cases_pre), str(num_cases))] = (covid_uf_summary[\"Date Case {} in UF\".format(str(num_cases\n",
    "                                                    ))] - covid_uf_summary[\"Date Case {} in UF\".format(str(num_cases_pre\n",
    "                                                    ))]).dt.days\n",
    "    \n",
    "\n",
    "covid_uf_summary.tail(2)"
   ]
  },
  {
   "cell_type": "code",
   "execution_count": 10,
   "metadata": {},
   "outputs": [
    {
     "name": "stdout",
     "output_type": "stream",
     "text": [
      "['Dias entre Caso 5000 e 10000 na UF', 'Dias entre Caso 2000 e 5000 na UF', 'Dias entre Caso 1000 e 2000 na UF', 'Dias entre Caso 500 e 1000 na UF', 'Dias entre Caso 250 e 500 na UF', 'Dias entre Caso 100 e 250 na UF', 'Dias entre Caso 1 e 100 na UF', 'Dias entre Caso 1 brasileiro e Caso 1 na UF']\n"
     ]
    }
   ],
   "source": [
    "columns_for_graph = [k for k in list(covid_uf_summary.columns)  if 'Dias entre Caso' in k]\n",
    "columns_for_graph.remove('Dias entre Caso 1 brasileiro e morte na UF')\n",
    "print(columns_for_graph[::-1])"
   ]
  },
  {
   "cell_type": "code",
   "execution_count": 94,
   "metadata": {},
   "outputs": [],
   "source": [
    "def labeling():\n",
    "    \n",
    "    for rect in ax.patches:\n",
    "        # Find where everything is located\n",
    "        height = rect.get_height()\n",
    "        width = rect.get_width()\n",
    "        x = rect.get_x()\n",
    "        y = rect.get_y()\n",
    "\n",
    "        # The width of the bar is the data value and can used as the label\n",
    "        label_text = f'{width:.0f}'  # f'{height:.2f}' to format decimal values\n",
    "        \n",
    "        if np.isnan(x) == False and np.isnan(y) == False and width > 0:\n",
    "            # ax.text(x, y, text)\n",
    "            label_x = x + width - 0.2  # adjust 0.2 to center the label\n",
    "            label_y = y + height / 2\n",
    "            ax.text(label_x, label_y, label_text, ha='right', va='center', fontsize=9, color='white')"
   ]
  },
  {
   "cell_type": "code",
   "execution_count": 95,
   "metadata": {},
   "outputs": [
    {
     "data": {
      "image/png": "[encoded data removed]",
      "text/plain": [
       "<Figure size 720x864 with 1 Axes>"
      ]
     },
     "metadata": {
      "needs_background": "light"
     },
     "output_type": "display_data"
    }
   ],
   "source": [
    "# Taken from here: https://pstblog.com/2016/10/04/stacked-charts\n",
    "# But changed to a barh\n",
    "\n",
    "fig, ax = plt.subplots(figsize=(10,12)) \n",
    "# matplotlib.style.use('ggplot')\n",
    "\n",
    "margin_bottom = np.zeros(len(covid_uf_summary.reset_index()['state'].drop_duplicates()))\n",
    "# colors = [\"#8B0000\", \"#B22222\",\"#DC143C\", \"#CD5C5C\", \"#F08080\", \"#E9967A\", \"#FA8072\", \"#FFA07A\"][::-1]\n",
    "colors = [\"#006400\", \"#6B8E23\", \"#8da341\", \"#c7b65f\", \"#FFA07A\", \"#e57155\", \"#DC143C\", \"#8B0000\"]\n",
    "\n",
    "for num, month in enumerate(columns_for_graph[::-1]):\n",
    "    \n",
    "    rects = covid_uf_summary.reset_index().plot.barh(x=\"state\",y=columns_for_graph[num], ax=ax, stacked=True, \n",
    "                                    left = margin_bottom, color=colors[num], \n",
    "                                    label=str(columns_for_graph[num]).replace(\"Dias entre \", \"\") )\n",
    "    labeling()\n",
    "    margin_bottom += covid_uf_summary[columns_for_graph[num]]\n",
    "\n",
    "ax.spines['right'].set_visible(False)\n",
    "ax.spines['top'].set_visible(False)\n",
    "\n",
    "ax.set_facecolor('white')\n",
    "ax.grid(color='#A9A9A9', axis = 'x', linewidth=0.5)\n",
    "plt.suptitle('Quantidade de dias para o desenvolvimento do COVID-19 por estado', fontsize=16)\n",
    "plt.title('Atualizado em {:%d/%m/%Y}'.format(last_updated), fontsize=10)\n",
    "\n",
    "plt.ylabel('Estado')\n",
    "plt.xlabel('Dias')\n",
    "plt.legend(bbox_to_anchor=(0.45, -0.15), ncol=3, loc='lower center', facecolor = 'white', frameon=False)\n",
    "\n",
    "fig.tight_layout()\n",
    "fig.subplots_adjust(top=0.94)\n",
    "\n",
    "plt.show()"
   ]
  },
  {
   "cell_type": "code",
   "execution_count": null,
   "metadata": {},
   "outputs": [],
   "source": []
  }
 ],
 "metadata": {
  "kernelspec": {
   "display_name": "Python 3",
   "language": "python",
   "name": "python3"
  },
  "language_info": {
   "codemirror_mode": {
    "name": "ipython",
    "version": 3
   },
   "file_extension": ".py",
   "mimetype": "text/x-python",
   "name": "python",
   "nbconvert_exporter": "python",
   "pygments_lexer": "ipython3",
   "version": "3.7.6"
  }
 },
 "nbformat": 4,
 "nbformat_minor": 4
}
