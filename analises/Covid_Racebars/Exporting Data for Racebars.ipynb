{
 "cells": [
  {
   "cell_type": "markdown",
   "metadata": {},
   "source": [
    "# Testing Race plot"
   ]
  },
  {
   "cell_type": "code",
   "execution_count": 1,
   "metadata": {},
   "outputs": [],
   "source": [
    "import pandas as pd\n",
    "from datetime import date\n",
    "import numpy as np\n",
    "import matplotlib.pyplot as plt\n",
    "import matplotlib\n",
    "import os\n",
    "import datetime"
   ]
  },
  {
   "cell_type": "code",
   "execution_count": 3,
   "metadata": {},
   "outputs": [
    {
     "data": {
      "text/plain": [
       "'C:\\\\Users\\\\Camila\\\\Documents\\\\git\\\\common_data'"
      ]
     },
     "execution_count": 3,
     "metadata": {},
     "output_type": "execute_result"
    }
   ],
   "source": [
    "path = \"\\\\\".join(os.getcwd().split(\"\\\\\")[:-2]) # + \"\\\\common_data\"\n",
    "path"
   ]
  },
  {
   "cell_type": "code",
   "execution_count": 4,
   "metadata": {},
   "outputs": [
    {
     "data": {
      "text/html": [
       "<div>\n",
       "<style scoped>\n",
       "    .dataframe tbody tr th:only-of-type {\n",
       "        vertical-align: middle;\n",
       "    }\n",
       "\n",
       "    .dataframe tbody tr th {\n",
       "        vertical-align: top;\n",
       "    }\n",
       "\n",
       "    .dataframe thead th {\n",
       "        text-align: right;\n",
       "    }\n",
       "</style>\n",
       "<table border=\"1\" class=\"dataframe\">\n",
       "  <thead>\n",
       "    <tr style=\"text-align: right;\">\n",
       "      <th></th>\n",
       "      <th>city</th>\n",
       "      <th>city_ibge_code</th>\n",
       "      <th>date</th>\n",
       "      <th>epidemiological_week</th>\n",
       "      <th>estimated_population_2019</th>\n",
       "      <th>is_last</th>\n",
       "      <th>is_repeated</th>\n",
       "      <th>last_available_confirmed</th>\n",
       "      <th>last_available_confirmed_per_100k_inhabitants</th>\n",
       "      <th>last_available_date</th>\n",
       "      <th>...</th>\n",
       "      <th>T_BANAGUA</th>\n",
       "      <th>T_DENS</th>\n",
       "      <th>AGUA_ESGOTO</th>\n",
       "      <th>T_RMAXIDOSO</th>\n",
       "      <th>IDHM</th>\n",
       "      <th>IDHM_E</th>\n",
       "      <th>IDHM_L</th>\n",
       "      <th>IDHM_R</th>\n",
       "      <th>date_formatted</th>\n",
       "      <th>Death Rate</th>\n",
       "    </tr>\n",
       "  </thead>\n",
       "  <tbody>\n",
       "    <tr>\n",
       "      <th>0</th>\n",
       "      <td>Acrelândia</td>\n",
       "      <td>1200013.0</td>\n",
       "      <td>2020-06-09</td>\n",
       "      <td>24</td>\n",
       "      <td>15256.0</td>\n",
       "      <td>True</td>\n",
       "      <td>False</td>\n",
       "      <td>167</td>\n",
       "      <td>1094.65128</td>\n",
       "      <td>2020-06-09</td>\n",
       "      <td>...</td>\n",
       "      <td>55.29</td>\n",
       "      <td>41.61</td>\n",
       "      <td>23.82</td>\n",
       "      <td>2.54</td>\n",
       "      <td>0.604</td>\n",
       "      <td>0.466</td>\n",
       "      <td>0.808</td>\n",
       "      <td>0.584</td>\n",
       "      <td>09/06</td>\n",
       "      <td>1.197605</td>\n",
       "    </tr>\n",
       "  </tbody>\n",
       "</table>\n",
       "<p>1 rows × 39 columns</p>\n",
       "</div>"
      ],
      "text/plain": [
       "         city  city_ibge_code       date  epidemiological_week  \\\n",
       "0  Acrelândia       1200013.0 2020-06-09                    24   \n",
       "\n",
       "   estimated_population_2019  is_last  is_repeated  last_available_confirmed  \\\n",
       "0                    15256.0     True        False                       167   \n",
       "\n",
       "   last_available_confirmed_per_100k_inhabitants last_available_date  ...  \\\n",
       "0                                     1094.65128          2020-06-09  ...   \n",
       "\n",
       "   T_BANAGUA  T_DENS  AGUA_ESGOTO  T_RMAXIDOSO   IDHM IDHM_E IDHM_L IDHM_R  \\\n",
       "0      55.29   41.61        23.82         2.54  0.604  0.466  0.808  0.584   \n",
       "\n",
       "   date_formatted  Death Rate  \n",
       "0           09/06    1.197605  \n",
       "\n",
       "[1 rows x 39 columns]"
      ]
     },
     "execution_count": 4,
     "metadata": {},
     "output_type": "execute_result"
    }
   ],
   "source": [
    "# Importing the Excel file with all the cities\n",
    "covid_munic = pd.read_csv(path+\"\\data\\caso_full_with_indicators.csv\")\n",
    "covid_munic[\"date\"] = pd.to_datetime(covid_munic['date'], format=\"%Y/%m/%d\")\n",
    "covid_munic[\"date_formatted\"] = covid_munic[\"date\"].apply(lambda x: x.strftime('%d/%m'))\n",
    "\n",
    "region = {'AC': \"Norte\", 'AM': \"Norte\", 'AP': \"Norte\", 'PA': \"Norte\", 'RO': \"Norte\", 'RR': \"Norte\", 'TO': \"Norte\",\n",
    "          'AL': \"Nordeste\", 'BA': \"Nordeste\", 'CE': \"Nordeste\", 'MA': \"Nordeste\", 'PB': \"Nordeste\", 'PE': \"Nordeste\", \n",
    "          'PI': \"Nordeste\", 'RN': \"Nordeste\", 'SE': \"Nordeste\", \n",
    "          'DF': \"Centro Oeste\", 'GO': \"Centro Oeste\", 'MS': \"Centro Oeste\", 'MT': \"Centro Oeste\",\n",
    "          'ES': \"Sudeste\", 'MG': \"Sudeste\", 'RJ': \"Sudeste\", 'SP': \"Sudeste\",\n",
    "          'PR': \"Sul\", 'SC': \"Sul\", 'RS': \"Sul\"}\n",
    "\n",
    "covid_munic['Region'] = covid_munic['state'].map(region)\n",
    "\n",
    "covid_munic['Death Rate'] = covid_munic['last_available_deaths'] / covid_munic['last_available_confirmed'] * 100\n",
    "\n",
    "covid_munic.head(1)"
   ]
  },
  {
   "cell_type": "code",
   "execution_count": 5,
   "metadata": {},
   "outputs": [
    {
     "name": "stderr",
     "output_type": "stream",
     "text": [
      "C:\\Users\\Camila\\anaconda3\\lib\\site-packages\\ipykernel_launcher.py:1: FutureWarning: Indexing with multiple keys (implicitly converted to a tuple of keys) will be deprecated, use a list instead.\n",
      "  \"\"\"Entry point for launching an IPython kernel.\n"
     ]
    },
    {
     "data": {
      "text/html": [
       "<div>\n",
       "<style scoped>\n",
       "    .dataframe tbody tr th:only-of-type {\n",
       "        vertical-align: middle;\n",
       "    }\n",
       "\n",
       "    .dataframe tbody tr th {\n",
       "        vertical-align: top;\n",
       "    }\n",
       "\n",
       "    .dataframe thead th {\n",
       "        text-align: right;\n",
       "    }\n",
       "</style>\n",
       "<table border=\"1\" class=\"dataframe\">\n",
       "  <thead>\n",
       "    <tr style=\"text-align: right;\">\n",
       "      <th></th>\n",
       "      <th>state</th>\n",
       "      <th>date</th>\n",
       "      <th>last_available_confirmed</th>\n",
       "      <th>last_available_deaths</th>\n",
       "      <th>new_confirmed</th>\n",
       "      <th>new_deaths</th>\n",
       "      <th>date_formatted</th>\n",
       "      <th>Region</th>\n",
       "      <th>Death Rate</th>\n",
       "    </tr>\n",
       "  </thead>\n",
       "  <tbody>\n",
       "    <tr>\n",
       "      <th>2402</th>\n",
       "      <td>TO</td>\n",
       "      <td>2020-06-05</td>\n",
       "      <td>5505</td>\n",
       "      <td>96</td>\n",
       "      <td>807</td>\n",
       "      <td>14</td>\n",
       "      <td>05/06</td>\n",
       "      <td>Norte</td>\n",
       "      <td>1.743869</td>\n",
       "    </tr>\n",
       "    <tr>\n",
       "      <th>2403</th>\n",
       "      <td>TO</td>\n",
       "      <td>2020-06-06</td>\n",
       "      <td>5644</td>\n",
       "      <td>99</td>\n",
       "      <td>139</td>\n",
       "      <td>3</td>\n",
       "      <td>06/06</td>\n",
       "      <td>Norte</td>\n",
       "      <td>1.754075</td>\n",
       "    </tr>\n",
       "    <tr>\n",
       "      <th>2404</th>\n",
       "      <td>TO</td>\n",
       "      <td>2020-06-07</td>\n",
       "      <td>5644</td>\n",
       "      <td>99</td>\n",
       "      <td>0</td>\n",
       "      <td>0</td>\n",
       "      <td>07/06</td>\n",
       "      <td>Norte</td>\n",
       "      <td>1.754075</td>\n",
       "    </tr>\n",
       "    <tr>\n",
       "      <th>2405</th>\n",
       "      <td>TO</td>\n",
       "      <td>2020-06-08</td>\n",
       "      <td>6052</td>\n",
       "      <td>114</td>\n",
       "      <td>408</td>\n",
       "      <td>15</td>\n",
       "      <td>08/06</td>\n",
       "      <td>Norte</td>\n",
       "      <td>1.883675</td>\n",
       "    </tr>\n",
       "    <tr>\n",
       "      <th>2406</th>\n",
       "      <td>TO</td>\n",
       "      <td>2020-06-09</td>\n",
       "      <td>6052</td>\n",
       "      <td>114</td>\n",
       "      <td>0</td>\n",
       "      <td>0</td>\n",
       "      <td>09/06</td>\n",
       "      <td>Norte</td>\n",
       "      <td>1.883675</td>\n",
       "    </tr>\n",
       "  </tbody>\n",
       "</table>\n",
       "</div>"
      ],
      "text/plain": [
       "     state       date  last_available_confirmed  last_available_deaths  \\\n",
       "2402    TO 2020-06-05                      5505                     96   \n",
       "2403    TO 2020-06-06                      5644                     99   \n",
       "2404    TO 2020-06-07                      5644                     99   \n",
       "2405    TO 2020-06-08                      6052                    114   \n",
       "2406    TO 2020-06-09                      6052                    114   \n",
       "\n",
       "      new_confirmed  new_deaths date_formatted Region  Death Rate  \n",
       "2402            807          14          05/06  Norte    1.743869  \n",
       "2403            139           3          06/06  Norte    1.754075  \n",
       "2404              0           0          07/06  Norte    1.754075  \n",
       "2405            408          15          08/06  Norte    1.883675  \n",
       "2406              0           0          09/06  Norte    1.883675  "
      ]
     },
     "execution_count": 5,
     "metadata": {},
     "output_type": "execute_result"
    }
   ],
   "source": [
    "covid_uf = covid_munic[covid_munic[\"place_type\"] == \"state\"].groupby([\"state\", \"date\"])[\"last_available_confirmed\", \"last_available_deaths\", \"new_confirmed\", \"new_deaths\"].sum().reset_index()\n",
    "covid_uf[\"date\"] = pd.to_datetime(covid_uf['date'], format=\"%Y/%m/%d\")\n",
    "covid_uf[\"date_formatted\"] = covid_uf[\"date\"].apply(lambda x: x.strftime('%d/%m'))\n",
    "\n",
    "# Create Region\n",
    "region = {'AC': \"Norte\", 'AM': \"Norte\", 'AP': \"Norte\", 'PA': \"Norte\", 'RO': \"Norte\", 'RR': \"Norte\", 'TO': \"Norte\",\n",
    "          'AL': \"Nordeste\", 'BA': \"Nordeste\", 'CE': \"Nordeste\", 'MA': \"Nordeste\", 'PB': \"Nordeste\", 'PE': \"Nordeste\", \n",
    "          'PI': \"Nordeste\", 'RN': \"Nordeste\", 'SE': \"Nordeste\", \n",
    "          'DF': \"Centro Oeste\", 'GO': \"Centro Oeste\", 'MS': \"Centro Oeste\", 'MT': \"Centro Oeste\",\n",
    "          'ES': \"Sudeste\", 'MG': \"Sudeste\", 'RJ': \"Sudeste\", 'SP': \"Sudeste\",\n",
    "          'PR': \"Sul\", 'SC': \"Sul\", 'RS': \"Sul\"}\n",
    "\n",
    "covid_uf['Region'] = covid_uf['state'].map(region)\n",
    "\n",
    "covid_uf['Death Rate'] = covid_uf['last_available_deaths'] / covid_uf['last_available_confirmed'] * 100\n",
    "\n",
    "covid_uf.tail()"
   ]
  },
  {
   "cell_type": "code",
   "execution_count": 6,
   "metadata": {},
   "outputs": [
    {
     "data": {
      "text/plain": [
       "date\n",
       "2020-05-31    24\n",
       "2020-06-01    25\n",
       "2020-06-02    26\n",
       "2020-06-03    25\n",
       "2020-06-04    24\n",
       "2020-06-05    24\n",
       "2020-06-06    25\n",
       "2020-06-07    25\n",
       "2020-06-08    23\n",
       "2020-06-09    22\n",
       "Name: state, dtype: int64"
      ]
     },
     "execution_count": 6,
     "metadata": {},
     "output_type": "execute_result"
    }
   ],
   "source": [
    "covid_uf[(covid_uf[\"new_confirmed\"] > 0) & (covid_uf[\"new_deaths\"] > 0)].groupby(\"date\")[\"state\"].count().tail(10)"
   ]
  },
  {
   "cell_type": "code",
   "execution_count": 7,
   "metadata": {},
   "outputs": [],
   "source": [
    "confirmed = covid_uf.pivot_table(index=[\"state\",\"Region\"], columns=[\"date\", \"date_formatted\"], aggfunc={'last_available_confirmed':sum}, fill_value=0).reset_index()"
   ]
  },
  {
   "cell_type": "code",
   "execution_count": 8,
   "metadata": {},
   "outputs": [],
   "source": [
    "confirmed.to_csv('confirmed_racebars.csv', encoding='utf-8', index=False)"
   ]
  },
  {
   "cell_type": "code",
   "execution_count": 9,
   "metadata": {},
   "outputs": [],
   "source": [
    "death = covid_uf.pivot_table(index=[\"state\",\"Region\"], columns=[\"date\", \"date_formatted\"], aggfunc={'last_available_deaths':sum}, fill_value=0).reset_index()\n",
    "death.to_csv('deaths_racebars.csv', encoding='utf-8', index=False)\n"
   ]
  },
  {
   "cell_type": "code",
   "execution_count": 10,
   "metadata": {},
   "outputs": [],
   "source": [
    "death_rate = covid_uf.pivot_table(index=[\"state\",\"Region\"], columns=[\"date\", \"date_formatted\"], aggfunc={'Death Rate':sum}, fill_value=0).reset_index()\n",
    "death_rate.to_csv('death_rate_racebars.csv', encoding='utf-8', index=False)"
   ]
  },
  {
   "cell_type": "code",
   "execution_count": 11,
   "metadata": {},
   "outputs": [],
   "source": [
    "confirmed_munic = covid_munic[covid_munic[\"place_type\"] == \"city\"].pivot_table(index=[\"city_ibge_code\",\"city\",\"Region\"], columns=[\"date\", \"date_formatted\"], aggfunc={'last_available_confirmed':max}, fill_value=0).reset_index()\n",
    "confirmed_munic.to_csv('confirmed_munic_racebars.csv', encoding='utf-8', index=False)\n"
   ]
  },
  {
   "cell_type": "code",
   "execution_count": 12,
   "metadata": {},
   "outputs": [],
   "source": [
    "death_munic = covid_munic[covid_munic[\"place_type\"] == \"city\"].pivot_table(index=[\"city_ibge_code\",\"city\",\"Region\"], columns=[\"date\", \"date_formatted\"], aggfunc={'last_available_deaths':max}, fill_value=0).reset_index()\n",
    "death_munic.to_csv('deaths_munic_racebars.csv', encoding='utf-8', index=False)\n"
   ]
  },
  {
   "cell_type": "code",
   "execution_count": null,
   "metadata": {},
   "outputs": [],
   "source": []
  }
 ],
 "metadata": {
  "kernelspec": {
   "display_name": "Python 3",
   "language": "python",
   "name": "python3"
  },
  "language_info": {
   "codemirror_mode": {
    "name": "ipython",
    "version": 3
   },
   "file_extension": ".py",
   "mimetype": "text/x-python",
   "name": "python",
   "nbconvert_exporter": "python",
   "pygments_lexer": "ipython3",
   "version": "3.7.6"
  }
 },
 "nbformat": 4,
 "nbformat_minor": 4
}
