{
 "cells": [
  {
   "cell_type": "markdown",
   "metadata": {},
   "source": [
    "# Testing Race plot"
   ]
  },
  {
   "cell_type": "code",
   "execution_count": 1,
   "metadata": {},
   "outputs": [],
   "source": [
    "import pandas as pd\n",
    "from datetime import date\n",
    "import numpy as np\n",
    "import matplotlib.pyplot as plt\n",
    "import matplotlib\n",
    "import os\n",
    "import datetime"
   ]
  },
  {
   "cell_type": "code",
   "execution_count": 2,
   "metadata": {},
   "outputs": [
    {
     "data": {
      "text/plain": [
       "'C:\\\\Users\\\\Camila\\\\Documents\\\\git\\\\common_data'"
      ]
     },
     "execution_count": 2,
     "metadata": {},
     "output_type": "execute_result"
    }
   ],
   "source": [
    "path = \"\\\\\".join(os.getcwd().split(\"\\\\\")[:-2]) + \"\\\\common_data\"\n",
    "path"
   ]
  },
  {
   "cell_type": "code",
   "execution_count": 28,
   "metadata": {},
   "outputs": [
    {
     "data": {
      "text/html": [
       "<div>\n",
       "<style scoped>\n",
       "    .dataframe tbody tr th:only-of-type {\n",
       "        vertical-align: middle;\n",
       "    }\n",
       "\n",
       "    .dataframe tbody tr th {\n",
       "        vertical-align: top;\n",
       "    }\n",
       "\n",
       "    .dataframe thead th {\n",
       "        text-align: right;\n",
       "    }\n",
       "</style>\n",
       "<table border=\"1\" class=\"dataframe\">\n",
       "  <thead>\n",
       "    <tr style=\"text-align: right;\">\n",
       "      <th></th>\n",
       "      <th>epidemiological_week</th>\n",
       "      <th>date</th>\n",
       "      <th>order_for_place</th>\n",
       "      <th>state</th>\n",
       "      <th>city</th>\n",
       "      <th>city_ibge_code</th>\n",
       "      <th>place_type</th>\n",
       "      <th>last_available_confirmed</th>\n",
       "      <th>last_available_confirmed_per_100k_inhabitants</th>\n",
       "      <th>new_confirmed</th>\n",
       "      <th>last_available_deaths</th>\n",
       "      <th>new_deaths</th>\n",
       "      <th>last_available_death_rate</th>\n",
       "      <th>estimated_population_2019</th>\n",
       "      <th>is_last</th>\n",
       "      <th>is_repeated</th>\n",
       "      <th>date_formatted</th>\n",
       "      <th>Region</th>\n",
       "      <th>Death Rate</th>\n",
       "    </tr>\n",
       "  </thead>\n",
       "  <tbody>\n",
       "    <tr>\n",
       "      <th>0</th>\n",
       "      <td>22</td>\n",
       "      <td>2020-05-27</td>\n",
       "      <td>60</td>\n",
       "      <td>AC</td>\n",
       "      <td>Acrelândia</td>\n",
       "      <td>1200013.0</td>\n",
       "      <td>city</td>\n",
       "      <td>129</td>\n",
       "      <td>845.56896</td>\n",
       "      <td>0</td>\n",
       "      <td>1</td>\n",
       "      <td>0</td>\n",
       "      <td>0.0078</td>\n",
       "      <td>15256.0</td>\n",
       "      <td>False</td>\n",
       "      <td>True</td>\n",
       "      <td>27/05</td>\n",
       "      <td>Norte</td>\n",
       "      <td>0.775194</td>\n",
       "    </tr>\n",
       "  </tbody>\n",
       "</table>\n",
       "</div>"
      ],
      "text/plain": [
       "   epidemiological_week       date  order_for_place state        city  \\\n",
       "0                    22 2020-05-27               60    AC  Acrelândia   \n",
       "\n",
       "   city_ibge_code place_type  last_available_confirmed  \\\n",
       "0       1200013.0       city                       129   \n",
       "\n",
       "   last_available_confirmed_per_100k_inhabitants  new_confirmed  \\\n",
       "0                                      845.56896              0   \n",
       "\n",
       "   last_available_deaths  new_deaths  last_available_death_rate  \\\n",
       "0                      1           0                     0.0078   \n",
       "\n",
       "   estimated_population_2019  is_last  is_repeated date_formatted Region  \\\n",
       "0                    15256.0    False         True          27/05  Norte   \n",
       "\n",
       "   Death Rate  \n",
       "0    0.775194  "
      ]
     },
     "execution_count": 28,
     "metadata": {},
     "output_type": "execute_result"
    }
   ],
   "source": [
    "# Importing the Excel file with all the cities\n",
    "covid_munic = pd.read_csv(path+\"\\data\\caso_full.csv\")\n",
    "covid_munic[\"date\"] = pd.to_datetime(covid_munic['date'], format=\"%Y/%m/%d\")\n",
    "covid_munic[\"date_formatted\"] = covid_munic[\"date\"].apply(lambda x: x.strftime('%d/%m'))\n",
    "\n",
    "region = {'AC': \"Norte\", 'AM': \"Norte\", 'AP': \"Norte\", 'PA': \"Norte\", 'RO': \"Norte\", 'RR': \"Norte\", 'TO': \"Norte\",\n",
    "          'AL': \"Nordeste\", 'BA': \"Nordeste\", 'CE': \"Nordeste\", 'MA': \"Nordeste\", 'PB': \"Nordeste\", 'PE': \"Nordeste\", \n",
    "          'PI': \"Nordeste\", 'RN': \"Nordeste\", 'SE': \"Nordeste\", \n",
    "          'DF': \"Centro Oeste\", 'GO': \"Centro Oeste\", 'MS': \"Centro Oeste\", 'MT': \"Centro Oeste\",\n",
    "          'ES': \"Sudeste\", 'MG': \"Sudeste\", 'RJ': \"Sudeste\", 'SP': \"Sudeste\",\n",
    "          'PR': \"Sul\", 'SC': \"Sul\", 'RS': \"Sul\"}\n",
    "\n",
    "covid_munic['Region'] = covid_munic['state'].map(region)\n",
    "\n",
    "covid_munic['Death Rate'] = covid_munic['last_available_deaths'] / covid_munic['last_available_confirmed'] * 100\n",
    "\n",
    "covid_munic.head(1)"
   ]
  },
  {
   "cell_type": "code",
   "execution_count": 23,
   "metadata": {},
   "outputs": [
    {
     "name": "stderr",
     "output_type": "stream",
     "text": [
      "C:\\Users\\Camila\\anaconda3\\lib\\site-packages\\ipykernel_launcher.py:1: FutureWarning: Indexing with multiple keys (implicitly converted to a tuple of keys) will be deprecated, use a list instead.\n",
      "  \"\"\"Entry point for launching an IPython kernel.\n"
     ]
    },
    {
     "data": {
      "text/html": [
       "<div>\n",
       "<style scoped>\n",
       "    .dataframe tbody tr th:only-of-type {\n",
       "        vertical-align: middle;\n",
       "    }\n",
       "\n",
       "    .dataframe tbody tr th {\n",
       "        vertical-align: top;\n",
       "    }\n",
       "\n",
       "    .dataframe thead th {\n",
       "        text-align: right;\n",
       "    }\n",
       "</style>\n",
       "<table border=\"1\" class=\"dataframe\">\n",
       "  <thead>\n",
       "    <tr style=\"text-align: right;\">\n",
       "      <th></th>\n",
       "      <th>state</th>\n",
       "      <th>date</th>\n",
       "      <th>last_available_confirmed</th>\n",
       "      <th>last_available_deaths</th>\n",
       "      <th>new_confirmed</th>\n",
       "      <th>new_deaths</th>\n",
       "      <th>date_formatted</th>\n",
       "      <th>Region</th>\n",
       "      <th>Death Rate</th>\n",
       "    </tr>\n",
       "  </thead>\n",
       "  <tbody>\n",
       "    <tr>\n",
       "      <th>2051</th>\n",
       "      <td>TO</td>\n",
       "      <td>2020-05-23</td>\n",
       "      <td>2430</td>\n",
       "      <td>51</td>\n",
       "      <td>0</td>\n",
       "      <td>0</td>\n",
       "      <td>23/05</td>\n",
       "      <td>Norte</td>\n",
       "      <td>2.098765</td>\n",
       "    </tr>\n",
       "    <tr>\n",
       "      <th>2052</th>\n",
       "      <td>TO</td>\n",
       "      <td>2020-05-24</td>\n",
       "      <td>2430</td>\n",
       "      <td>51</td>\n",
       "      <td>0</td>\n",
       "      <td>0</td>\n",
       "      <td>24/05</td>\n",
       "      <td>Norte</td>\n",
       "      <td>2.098765</td>\n",
       "    </tr>\n",
       "    <tr>\n",
       "      <th>2053</th>\n",
       "      <td>TO</td>\n",
       "      <td>2020-05-25</td>\n",
       "      <td>2696</td>\n",
       "      <td>58</td>\n",
       "      <td>266</td>\n",
       "      <td>7</td>\n",
       "      <td>25/05</td>\n",
       "      <td>Norte</td>\n",
       "      <td>2.151335</td>\n",
       "    </tr>\n",
       "    <tr>\n",
       "      <th>2054</th>\n",
       "      <td>TO</td>\n",
       "      <td>2020-05-26</td>\n",
       "      <td>2858</td>\n",
       "      <td>64</td>\n",
       "      <td>162</td>\n",
       "      <td>6</td>\n",
       "      <td>26/05</td>\n",
       "      <td>Norte</td>\n",
       "      <td>2.239328</td>\n",
       "    </tr>\n",
       "    <tr>\n",
       "      <th>2055</th>\n",
       "      <td>TO</td>\n",
       "      <td>2020-05-27</td>\n",
       "      <td>2858</td>\n",
       "      <td>64</td>\n",
       "      <td>0</td>\n",
       "      <td>0</td>\n",
       "      <td>27/05</td>\n",
       "      <td>Norte</td>\n",
       "      <td>2.239328</td>\n",
       "    </tr>\n",
       "  </tbody>\n",
       "</table>\n",
       "</div>"
      ],
      "text/plain": [
       "     state       date  last_available_confirmed  last_available_deaths  \\\n",
       "2051    TO 2020-05-23                      2430                     51   \n",
       "2052    TO 2020-05-24                      2430                     51   \n",
       "2053    TO 2020-05-25                      2696                     58   \n",
       "2054    TO 2020-05-26                      2858                     64   \n",
       "2055    TO 2020-05-27                      2858                     64   \n",
       "\n",
       "      new_confirmed  new_deaths date_formatted Region  Death Rate  \n",
       "2051              0           0          23/05  Norte    2.098765  \n",
       "2052              0           0          24/05  Norte    2.098765  \n",
       "2053            266           7          25/05  Norte    2.151335  \n",
       "2054            162           6          26/05  Norte    2.239328  \n",
       "2055              0           0          27/05  Norte    2.239328  "
      ]
     },
     "execution_count": 23,
     "metadata": {},
     "output_type": "execute_result"
    }
   ],
   "source": [
    "covid_uf = covid_munic[covid_munic[\"place_type\"] == \"state\"].groupby([\"state\", \"date\"])[\"last_available_confirmed\", \"last_available_deaths\", \"new_confirmed\", \"new_deaths\"].sum().reset_index()\n",
    "covid_uf[\"date\"] = pd.to_datetime(covid_uf['date'], format=\"%Y/%m/%d\")\n",
    "covid_uf[\"date_formatted\"] = covid_uf[\"date\"].apply(lambda x: x.strftime('%d/%m'))\n",
    "\n",
    "# Create Region\n",
    "region = {'AC': \"Norte\", 'AM': \"Norte\", 'AP': \"Norte\", 'PA': \"Norte\", 'RO': \"Norte\", 'RR': \"Norte\", 'TO': \"Norte\",\n",
    "          'AL': \"Nordeste\", 'BA': \"Nordeste\", 'CE': \"Nordeste\", 'MA': \"Nordeste\", 'PB': \"Nordeste\", 'PE': \"Nordeste\", \n",
    "          'PI': \"Nordeste\", 'RN': \"Nordeste\", 'SE': \"Nordeste\", \n",
    "          'DF': \"Centro Oeste\", 'GO': \"Centro Oeste\", 'MS': \"Centro Oeste\", 'MT': \"Centro Oeste\",\n",
    "          'ES': \"Sudeste\", 'MG': \"Sudeste\", 'RJ': \"Sudeste\", 'SP': \"Sudeste\",\n",
    "          'PR': \"Sul\", 'SC': \"Sul\", 'RS': \"Sul\"}\n",
    "\n",
    "covid_uf['Region'] = covid_uf['state'].map(region)\n",
    "\n",
    "covid_uf['Death Rate'] = covid_uf['last_available_deaths'] / covid_uf['last_available_confirmed'] * 100\n",
    "\n",
    "covid_uf.tail()"
   ]
  },
  {
   "cell_type": "code",
   "execution_count": 11,
   "metadata": {},
   "outputs": [
    {
     "data": {
      "text/plain": [
       "date\n",
       "2020-05-18    27\n",
       "2020-05-19    24\n",
       "2020-05-20    25\n",
       "2020-05-21    24\n",
       "2020-05-22    26\n",
       "2020-05-23    20\n",
       "2020-05-24    23\n",
       "2020-05-25    24\n",
       "2020-05-26    22\n",
       "2020-05-27    14\n",
       "Name: state, dtype: int64"
      ]
     },
     "execution_count": 11,
     "metadata": {},
     "output_type": "execute_result"
    }
   ],
   "source": [
    "covid_uf[(covid_uf[\"new_confirmed\"] > 0) & (covid_uf[\"new_deaths\"] > 0)].groupby(\"date\")[\"state\"].count().tail(10)"
   ]
  },
  {
   "cell_type": "code",
   "execution_count": 17,
   "metadata": {},
   "outputs": [],
   "source": [
    "confirmed = covid_uf.pivot_table(index=[\"state\",\"Region\"], columns=[\"date\", \"date_formatted\"], aggfunc={'last_available_confirmed':sum}, fill_value=0).reset_index()"
   ]
  },
  {
   "cell_type": "code",
   "execution_count": 20,
   "metadata": {},
   "outputs": [],
   "source": [
    "confirmed.to_csv('confirmed_racebars.csv', encoding='utf-8', index=False)"
   ]
  },
  {
   "cell_type": "code",
   "execution_count": 21,
   "metadata": {},
   "outputs": [],
   "source": [
    "death = covid_uf.pivot_table(index=[\"state\",\"Region\"], columns=[\"date\", \"date_formatted\"], aggfunc={'last_available_deaths':sum}, fill_value=0).reset_index()\n",
    "death.to_csv('deaths_racebars.csv', encoding='utf-8', index=False)\n"
   ]
  },
  {
   "cell_type": "code",
   "execution_count": 25,
   "metadata": {},
   "outputs": [],
   "source": [
    "death_rate = covid_uf.pivot_table(index=[\"state\",\"Region\"], columns=[\"date\", \"date_formatted\"], aggfunc={'Death Rate':sum}, fill_value=0).reset_index()\n",
    "death_rate.to_csv('death_rate_racebars.csv', encoding='utf-8', index=False)"
   ]
  },
  {
   "cell_type": "code",
   "execution_count": 32,
   "metadata": {},
   "outputs": [],
   "source": [
    "confirmed_munic = covid_munic[covid_munic[\"place_type\"] == \"city\"].pivot_table(index=[\"city_ibge_code\",\"city\",\"Region\"], columns=[\"date\", \"date_formatted\"], aggfunc={'last_available_confirmed':max}, fill_value=0).reset_index()\n",
    "confirmed_munic.to_csv('confirmed_munic_racebars.csv', encoding='utf-8', index=False)\n"
   ]
  },
  {
   "cell_type": "code",
   "execution_count": 34,
   "metadata": {},
   "outputs": [],
   "source": [
    "death_munic = covid_munic[covid_munic[\"place_type\"] == \"city\"].pivot_table(index=[\"city_ibge_code\",\"city\",\"Region\"], columns=[\"date\", \"date_formatted\"], aggfunc={'last_available_deaths':max}, fill_value=0).reset_index()\n",
    "death_munic.to_csv('deaths_munic_racebars.csv', encoding='utf-8', index=False)\n"
   ]
  },
  {
   "cell_type": "code",
   "execution_count": null,
   "metadata": {},
   "outputs": [],
   "source": []
  }
 ],
 "metadata": {
  "kernelspec": {
   "display_name": "Python 3",
   "language": "python",
   "name": "python3"
  },
  "language_info": {
   "codemirror_mode": {
    "name": "ipython",
    "version": 3
   },
   "file_extension": ".py",
   "mimetype": "text/x-python",
   "name": "python",
   "nbconvert_exporter": "python",
   "pygments_lexer": "ipython3",
   "version": "3.7.6"
  }
 },
 "nbformat": 4,
 "nbformat_minor": 4
}
