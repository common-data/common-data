{
 "cells": [
  {
   "cell_type": "markdown",
   "metadata": {},
   "source": [
    "# Testing Race plot"
   ]
  },
  {
   "cell_type": "code",
   "execution_count": 1,
   "metadata": {},
   "outputs": [],
   "source": [
    "import pandas as pd\n",
    "from datetime import date\n",
    "import numpy as np\n",
    "import matplotlib.pyplot as plt\n",
    "import matplotlib\n",
    "import os\n",
    "import datetime"
   ]
  },
  {
   "cell_type": "code",
   "execution_count": 2,
   "metadata": {},
   "outputs": [
    {
     "data": {
      "text/plain": [
       "'C:\\\\Users\\\\Camila\\\\Documents\\\\git\\\\common_data'"
      ]
     },
     "execution_count": 2,
     "metadata": {},
     "output_type": "execute_result"
    }
   ],
   "source": [
    "path = \"\\\\\".join(os.getcwd().split(\"\\\\\")[:-2]) # + \"\\\\common_data\"\n",
    "path"
   ]
  },
  {
   "cell_type": "code",
   "execution_count": 19,
   "metadata": {},
   "outputs": [
    {
     "data": {
      "text/html": [
       "<div>\n",
       "<style scoped>\n",
       "    .dataframe tbody tr th:only-of-type {\n",
       "        vertical-align: middle;\n",
       "    }\n",
       "\n",
       "    .dataframe tbody tr th {\n",
       "        vertical-align: top;\n",
       "    }\n",
       "\n",
       "    .dataframe thead th {\n",
       "        text-align: right;\n",
       "    }\n",
       "</style>\n",
       "<table border=\"1\" class=\"dataframe\">\n",
       "  <thead>\n",
       "    <tr style=\"text-align: right;\">\n",
       "      <th></th>\n",
       "      <th>city</th>\n",
       "      <th>city_ibge_code</th>\n",
       "      <th>date</th>\n",
       "      <th>epidemiological_week</th>\n",
       "      <th>estimated_population_2019</th>\n",
       "      <th>is_last</th>\n",
       "      <th>is_repeated</th>\n",
       "      <th>last_available_confirmed</th>\n",
       "      <th>last_available_confirmed_per_100k_inhabitants</th>\n",
       "      <th>last_available_date</th>\n",
       "      <th>...</th>\n",
       "      <th>T_DENS</th>\n",
       "      <th>AGUA_ESGOTO</th>\n",
       "      <th>T_RMAXIDOSO</th>\n",
       "      <th>IDHM</th>\n",
       "      <th>IDHM_E</th>\n",
       "      <th>IDHM_L</th>\n",
       "      <th>IDHM_R</th>\n",
       "      <th>date_formatted</th>\n",
       "      <th>Death Rate</th>\n",
       "      <th>city_uf</th>\n",
       "    </tr>\n",
       "  </thead>\n",
       "  <tbody>\n",
       "    <tr>\n",
       "      <th>204193</th>\n",
       "      <td>NaN</td>\n",
       "      <td>35.0</td>\n",
       "      <td>2020-02-25</td>\n",
       "      <td>9</td>\n",
       "      <td>45919049.0</td>\n",
       "      <td>False</td>\n",
       "      <td>False</td>\n",
       "      <td>1</td>\n",
       "      <td>0.00218</td>\n",
       "      <td>2020-02-25</td>\n",
       "      <td>...</td>\n",
       "      <td>28.66</td>\n",
       "      <td>0.6</td>\n",
       "      <td>1.07</td>\n",
       "      <td>0.783</td>\n",
       "      <td>0.719</td>\n",
       "      <td>0.845</td>\n",
       "      <td>0.789</td>\n",
       "      <td>25/02</td>\n",
       "      <td>0.0</td>\n",
       "      <td>nan-SP</td>\n",
       "    </tr>\n",
       "  </tbody>\n",
       "</table>\n",
       "<p>1 rows × 40 columns</p>\n",
       "</div>"
      ],
      "text/plain": [
       "       city  city_ibge_code       date  epidemiological_week  \\\n",
       "204193  NaN            35.0 2020-02-25                     9   \n",
       "\n",
       "        estimated_population_2019  is_last  is_repeated  \\\n",
       "204193                 45919049.0    False        False   \n",
       "\n",
       "        last_available_confirmed  \\\n",
       "204193                         1   \n",
       "\n",
       "        last_available_confirmed_per_100k_inhabitants last_available_date  \\\n",
       "204193                                        0.00218          2020-02-25   \n",
       "\n",
       "        ...  T_DENS  AGUA_ESGOTO  T_RMAXIDOSO   IDHM  IDHM_E IDHM_L IDHM_R  \\\n",
       "204193  ...   28.66          0.6         1.07  0.783   0.719  0.845  0.789   \n",
       "\n",
       "       date_formatted  Death Rate  city_uf  \n",
       "204193          25/02         0.0   nan-SP  \n",
       "\n",
       "[1 rows x 40 columns]"
      ]
     },
     "execution_count": 19,
     "metadata": {},
     "output_type": "execute_result"
    }
   ],
   "source": [
    "# Importing the Excel file with all the cities\n",
    "covid_munic = pd.read_csv(path+\"\\data\\caso_full_with_indicators.csv\")\n",
    "covid_munic[\"date\"] = pd.to_datetime(covid_munic['date'], format=\"%Y/%m/%d\")\n",
    "covid_munic[\"date_formatted\"] = covid_munic[\"date\"].apply(lambda x: x.strftime('%d/%m'))\n",
    "\n",
    "region = {'AC': \"Norte\", 'AM': \"Norte\", 'AP': \"Norte\", 'PA': \"Norte\", 'RO': \"Norte\", 'RR': \"Norte\", 'TO': \"Norte\",\n",
    "          'AL': \"Nordeste\", 'BA': \"Nordeste\", 'CE': \"Nordeste\", 'MA': \"Nordeste\", 'PB': \"Nordeste\", 'PE': \"Nordeste\", \n",
    "          'PI': \"Nordeste\", 'RN': \"Nordeste\", 'SE': \"Nordeste\", \n",
    "          'DF': \"Centro Oeste\", 'GO': \"Centro Oeste\", 'MS': \"Centro Oeste\", 'MT': \"Centro Oeste\",\n",
    "          'ES': \"Sudeste\", 'MG': \"Sudeste\", 'RJ': \"Sudeste\", 'SP': \"Sudeste\",\n",
    "          'PR': \"Sul\", 'SC': \"Sul\", 'RS': \"Sul\"}\n",
    "\n",
    "covid_munic['Region'] = covid_munic['state'].map(region)\n",
    "\n",
    "covid_munic['Death Rate'] = covid_munic['last_available_deaths'] / covid_munic['last_available_confirmed'] * 100\n",
    "\n",
    "covid_munic['city_uf'] = ['-'.join(i) for i in zip(covid_munic[\"city\"].map(str), covid_munic[\"state\"].map(str) )]\n",
    "\n",
    "covid_munic.tail(1)"
   ]
  },
  {
   "cell_type": "code",
   "execution_count": 4,
   "metadata": {},
   "outputs": [
    {
     "name": "stderr",
     "output_type": "stream",
     "text": [
      "C:\\Users\\Camila\\anaconda3\\lib\\site-packages\\ipykernel_launcher.py:1: FutureWarning: Indexing with multiple keys (implicitly converted to a tuple of keys) will be deprecated, use a list instead.\n",
      "  \"\"\"Entry point for launching an IPython kernel.\n"
     ]
    },
    {
     "data": {
      "text/html": [
       "<div>\n",
       "<style scoped>\n",
       "    .dataframe tbody tr th:only-of-type {\n",
       "        vertical-align: middle;\n",
       "    }\n",
       "\n",
       "    .dataframe tbody tr th {\n",
       "        vertical-align: top;\n",
       "    }\n",
       "\n",
       "    .dataframe thead th {\n",
       "        text-align: right;\n",
       "    }\n",
       "</style>\n",
       "<table border=\"1\" class=\"dataframe\">\n",
       "  <thead>\n",
       "    <tr style=\"text-align: right;\">\n",
       "      <th></th>\n",
       "      <th>state</th>\n",
       "      <th>date</th>\n",
       "      <th>last_available_confirmed</th>\n",
       "      <th>last_available_deaths</th>\n",
       "      <th>new_confirmed</th>\n",
       "      <th>new_deaths</th>\n",
       "      <th>date_formatted</th>\n",
       "      <th>Region</th>\n",
       "      <th>Death Rate</th>\n",
       "    </tr>\n",
       "  </thead>\n",
       "  <tbody>\n",
       "    <tr>\n",
       "      <th>2510</th>\n",
       "      <td>TO</td>\n",
       "      <td>2020-06-09</td>\n",
       "      <td>6257</td>\n",
       "      <td>120</td>\n",
       "      <td>205</td>\n",
       "      <td>6</td>\n",
       "      <td>09/06</td>\n",
       "      <td>Norte</td>\n",
       "      <td>1.917852</td>\n",
       "    </tr>\n",
       "    <tr>\n",
       "      <th>2511</th>\n",
       "      <td>TO</td>\n",
       "      <td>2020-06-10</td>\n",
       "      <td>6529</td>\n",
       "      <td>124</td>\n",
       "      <td>272</td>\n",
       "      <td>4</td>\n",
       "      <td>10/06</td>\n",
       "      <td>Norte</td>\n",
       "      <td>1.899219</td>\n",
       "    </tr>\n",
       "    <tr>\n",
       "      <th>2512</th>\n",
       "      <td>TO</td>\n",
       "      <td>2020-06-11</td>\n",
       "      <td>6744</td>\n",
       "      <td>128</td>\n",
       "      <td>215</td>\n",
       "      <td>4</td>\n",
       "      <td>11/06</td>\n",
       "      <td>Norte</td>\n",
       "      <td>1.897983</td>\n",
       "    </tr>\n",
       "    <tr>\n",
       "      <th>2513</th>\n",
       "      <td>TO</td>\n",
       "      <td>2020-06-12</td>\n",
       "      <td>6931</td>\n",
       "      <td>130</td>\n",
       "      <td>187</td>\n",
       "      <td>2</td>\n",
       "      <td>12/06</td>\n",
       "      <td>Norte</td>\n",
       "      <td>1.875631</td>\n",
       "    </tr>\n",
       "    <tr>\n",
       "      <th>2514</th>\n",
       "      <td>TO</td>\n",
       "      <td>2020-06-13</td>\n",
       "      <td>6931</td>\n",
       "      <td>130</td>\n",
       "      <td>0</td>\n",
       "      <td>0</td>\n",
       "      <td>13/06</td>\n",
       "      <td>Norte</td>\n",
       "      <td>1.875631</td>\n",
       "    </tr>\n",
       "  </tbody>\n",
       "</table>\n",
       "</div>"
      ],
      "text/plain": [
       "     state       date  last_available_confirmed  last_available_deaths  \\\n",
       "2510    TO 2020-06-09                      6257                    120   \n",
       "2511    TO 2020-06-10                      6529                    124   \n",
       "2512    TO 2020-06-11                      6744                    128   \n",
       "2513    TO 2020-06-12                      6931                    130   \n",
       "2514    TO 2020-06-13                      6931                    130   \n",
       "\n",
       "      new_confirmed  new_deaths date_formatted Region  Death Rate  \n",
       "2510            205           6          09/06  Norte    1.917852  \n",
       "2511            272           4          10/06  Norte    1.899219  \n",
       "2512            215           4          11/06  Norte    1.897983  \n",
       "2513            187           2          12/06  Norte    1.875631  \n",
       "2514              0           0          13/06  Norte    1.875631  "
      ]
     },
     "execution_count": 4,
     "metadata": {},
     "output_type": "execute_result"
    }
   ],
   "source": [
    "covid_uf = covid_munic[covid_munic[\"place_type\"] == \"state\"].groupby([\"state\", \"date\"])[\"last_available_confirmed\", \"last_available_deaths\", \"new_confirmed\", \"new_deaths\"].sum().reset_index()\n",
    "covid_uf[\"date\"] = pd.to_datetime(covid_uf['date'], format=\"%Y/%m/%d\")\n",
    "covid_uf[\"date_formatted\"] = covid_uf[\"date\"].apply(lambda x: x.strftime('%d/%m'))\n",
    "\n",
    "# Create Region\n",
    "region = {'AC': \"Norte\", 'AM': \"Norte\", 'AP': \"Norte\", 'PA': \"Norte\", 'RO': \"Norte\", 'RR': \"Norte\", 'TO': \"Norte\",\n",
    "          'AL': \"Nordeste\", 'BA': \"Nordeste\", 'CE': \"Nordeste\", 'MA': \"Nordeste\", 'PB': \"Nordeste\", 'PE': \"Nordeste\", \n",
    "          'PI': \"Nordeste\", 'RN': \"Nordeste\", 'SE': \"Nordeste\", \n",
    "          'DF': \"Centro Oeste\", 'GO': \"Centro Oeste\", 'MS': \"Centro Oeste\", 'MT': \"Centro Oeste\",\n",
    "          'ES': \"Sudeste\", 'MG': \"Sudeste\", 'RJ': \"Sudeste\", 'SP': \"Sudeste\",\n",
    "          'PR': \"Sul\", 'SC': \"Sul\", 'RS': \"Sul\"}\n",
    "covid_uf['Region'] = covid_uf['state'].map(region)\n",
    "\n",
    "covid_uf['Death Rate'] = covid_uf['last_available_deaths'] / covid_uf['last_available_confirmed'] * 100\n",
    "\n",
    "covid_uf.tail()"
   ]
  },
  {
   "cell_type": "code",
   "execution_count": 5,
   "metadata": {},
   "outputs": [
    {
     "data": {
      "text/plain": [
       "date\n",
       "2020-06-04    24\n",
       "2020-06-05    24\n",
       "2020-06-06    25\n",
       "2020-06-07    26\n",
       "2020-06-08    24\n",
       "2020-06-09    27\n",
       "2020-06-10    27\n",
       "2020-06-11    27\n",
       "2020-06-12    25\n",
       "2020-06-13    24\n",
       "Name: state, dtype: int64"
      ]
     },
     "execution_count": 5,
     "metadata": {},
     "output_type": "execute_result"
    }
   ],
   "source": [
    "covid_uf[(covid_uf[\"new_confirmed\"] > 0) & (covid_uf[\"new_deaths\"] > 0)].groupby(\"date\")[\"state\"].count().tail(10)"
   ]
  },
  {
   "cell_type": "code",
   "execution_count": 6,
   "metadata": {},
   "outputs": [],
   "source": [
    "confirmed = covid_uf.pivot_table(index=[\"state\",\"Region\"], columns=[\"date\", \"date_formatted\"], aggfunc={'last_available_confirmed':sum}, fill_value=0).reset_index()"
   ]
  },
  {
   "cell_type": "code",
   "execution_count": 7,
   "metadata": {},
   "outputs": [],
   "source": [
    "confirmed.to_csv('confirmed_racebars.csv', encoding='utf-8', index=False)"
   ]
  },
  {
   "cell_type": "code",
   "execution_count": 8,
   "metadata": {},
   "outputs": [],
   "source": [
    "death = covid_uf.pivot_table(index=[\"state\",\"Region\"], columns=[\"date\", \"date_formatted\"], aggfunc={'last_available_deaths':sum}, fill_value=0).reset_index()\n",
    "death.to_csv('deaths_racebars.csv', encoding='utf-8', index=False)\n"
   ]
  },
  {
   "cell_type": "code",
   "execution_count": 9,
   "metadata": {},
   "outputs": [],
   "source": [
    "death_rate = covid_uf.pivot_table(index=[\"state\",\"Region\"], columns=[\"date\", \"date_formatted\"], aggfunc={'Death Rate':sum}, fill_value=0).reset_index()\n",
    "death_rate.to_csv('death_rate_racebars.csv', encoding='utf-8', index=False)"
   ]
  },
  {
   "cell_type": "code",
   "execution_count": 20,
   "metadata": {},
   "outputs": [],
   "source": [
    "confirmed_munic = covid_munic[covid_munic[\"place_type\"] == \"city\"].pivot_table(index=[\"city_ibge_code\",\"city_uf\",\"Region\"], columns=[\"date\", \"date_formatted\"], aggfunc={'last_available_confirmed':max}, fill_value=0).reset_index()\n",
    "confirmed_munic.to_csv('confirmed_munic_racebars.csv', encoding='utf-8', index=False)\n"
   ]
  },
  {
   "cell_type": "code",
   "execution_count": 21,
   "metadata": {},
   "outputs": [],
   "source": [
    "death_munic = covid_munic[covid_munic[\"place_type\"] == \"city\"].pivot_table(index=[\"city_ibge_code\",\"city_uf\",\"Region\"], columns=[\"date\", \"date_formatted\"], aggfunc={'last_available_deaths':max}, fill_value=0).reset_index()\n",
    "death_munic.to_csv('deaths_munic_racebars.csv', encoding='utf-8', index=False)\n"
   ]
  },
  {
   "cell_type": "code",
   "execution_count": null,
   "metadata": {},
   "outputs": [],
   "source": []
  }
 ],
 "metadata": {
  "kernelspec": {
   "display_name": "Python 3",
   "language": "python",
   "name": "python3"
  },
  "language_info": {
   "codemirror_mode": {
    "name": "ipython",
    "version": 3
   },
   "file_extension": ".py",
   "mimetype": "text/x-python",
   "name": "python",
   "nbconvert_exporter": "python",
   "pygments_lexer": "ipython3",
   "version": "3.7.6"
  }
 },
 "nbformat": 4,
 "nbformat_minor": 4
}
