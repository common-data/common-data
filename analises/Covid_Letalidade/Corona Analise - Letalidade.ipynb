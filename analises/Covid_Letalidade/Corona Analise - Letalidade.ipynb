{
 "cells": [
  {
   "cell_type": "markdown",
   "metadata": {},
   "source": [
    "# Letalidade - Tempo entre 1o caso e 1a morte na UF\n",
    "Esse trabalho procura ver a letalidade de uma outra forma."
   ]
  },
  {
   "cell_type": "code",
   "execution_count": 1,
   "metadata": {},
   "outputs": [],
   "source": [
    "import pandas as pd\n",
    "from datetime import date\n",
    "import numpy as np\n",
    "import matplotlib.pyplot as plt\n",
    "import matplotlib\n",
    "import os"
   ]
  },
  {
   "cell_type": "code",
   "execution_count": 2,
   "metadata": {},
   "outputs": [
    {
     "data": {
      "text/plain": [
       "'C:\\\\Users\\\\Camila\\\\Documents\\\\git\\\\common_data'"
      ]
     },
     "execution_count": 2,
     "metadata": {},
     "output_type": "execute_result"
    }
   ],
   "source": [
    "path = \"\\\\\".join(os.getcwd().split(\"\\\\\")[:-2])\n",
    "path"
   ]
  },
  {
   "cell_type": "code",
   "execution_count": 3,
   "metadata": {},
   "outputs": [
    {
     "data": {
      "text/html": [
       "<div>\n",
       "<style scoped>\n",
       "    .dataframe tbody tr th:only-of-type {\n",
       "        vertical-align: middle;\n",
       "    }\n",
       "\n",
       "    .dataframe tbody tr th {\n",
       "        vertical-align: top;\n",
       "    }\n",
       "\n",
       "    .dataframe thead th {\n",
       "        text-align: right;\n",
       "    }\n",
       "</style>\n",
       "<table border=\"1\" class=\"dataframe\">\n",
       "  <thead>\n",
       "    <tr style=\"text-align: right;\">\n",
       "      <th></th>\n",
       "      <th>city</th>\n",
       "      <th>city_ibge_code</th>\n",
       "      <th>date</th>\n",
       "      <th>epidemiological_week</th>\n",
       "      <th>estimated_population_2019</th>\n",
       "      <th>is_last</th>\n",
       "      <th>is_repeated</th>\n",
       "      <th>last_available_confirmed</th>\n",
       "      <th>last_available_confirmed_per_100k_inhabitants</th>\n",
       "      <th>last_available_date</th>\n",
       "      <th>last_available_death_rate</th>\n",
       "      <th>last_available_deaths</th>\n",
       "      <th>order_for_place</th>\n",
       "      <th>place_type</th>\n",
       "      <th>state</th>\n",
       "      <th>new_confirmed</th>\n",
       "      <th>new_deaths</th>\n",
       "    </tr>\n",
       "  </thead>\n",
       "  <tbody>\n",
       "    <tr>\n",
       "      <th>0</th>\n",
       "      <td>São Paulo</td>\n",
       "      <td>3550308.0</td>\n",
       "      <td>2020-02-25</td>\n",
       "      <td>9</td>\n",
       "      <td>12252023.0</td>\n",
       "      <td>False</td>\n",
       "      <td>False</td>\n",
       "      <td>1</td>\n",
       "      <td>0.00816</td>\n",
       "      <td>2020-02-25</td>\n",
       "      <td>0.0</td>\n",
       "      <td>0</td>\n",
       "      <td>1</td>\n",
       "      <td>city</td>\n",
       "      <td>SP</td>\n",
       "      <td>1</td>\n",
       "      <td>0</td>\n",
       "    </tr>\n",
       "  </tbody>\n",
       "</table>\n",
       "</div>"
      ],
      "text/plain": [
       "        city  city_ibge_code       date  epidemiological_week  \\\n",
       "0  São Paulo       3550308.0 2020-02-25                     9   \n",
       "\n",
       "   estimated_population_2019  is_last  is_repeated  last_available_confirmed  \\\n",
       "0                 12252023.0    False        False                         1   \n",
       "\n",
       "   last_available_confirmed_per_100k_inhabitants last_available_date  \\\n",
       "0                                        0.00816          2020-02-25   \n",
       "\n",
       "   last_available_death_rate  last_available_deaths  order_for_place  \\\n",
       "0                        0.0                      0                1   \n",
       "\n",
       "  place_type state  new_confirmed  new_deaths  \n",
       "0       city    SP              1           0  "
      ]
     },
     "execution_count": 3,
     "metadata": {},
     "output_type": "execute_result"
    }
   ],
   "source": [
    "# Importing the Excel file with all the cities\n",
    "covid_munic = pd.read_csv(path+\"\\data\\caso_full.csv\")\n",
    "covid_munic[\"date\"] = pd.to_datetime(covid_munic['date'], format=\"%Y/%m/%d\")\n",
    "covid_munic.head(1)"
   ]
  },
  {
   "cell_type": "code",
   "execution_count": 4,
   "metadata": {},
   "outputs": [
    {
     "data": {
      "text/html": [
       "<div>\n",
       "<style scoped>\n",
       "    .dataframe tbody tr th:only-of-type {\n",
       "        vertical-align: middle;\n",
       "    }\n",
       "\n",
       "    .dataframe tbody tr th {\n",
       "        vertical-align: top;\n",
       "    }\n",
       "\n",
       "    .dataframe thead th {\n",
       "        text-align: right;\n",
       "    }\n",
       "</style>\n",
       "<table border=\"1\" class=\"dataframe\">\n",
       "  <thead>\n",
       "    <tr style=\"text-align: right;\">\n",
       "      <th></th>\n",
       "      <th>city</th>\n",
       "      <th>city_ibge_code</th>\n",
       "      <th>date</th>\n",
       "      <th>epidemiological_week</th>\n",
       "      <th>estimated_population_2019</th>\n",
       "      <th>is_last</th>\n",
       "      <th>is_repeated</th>\n",
       "      <th>last_available_confirmed</th>\n",
       "      <th>last_available_confirmed_per_100k_inhabitants</th>\n",
       "      <th>last_available_date</th>\n",
       "      <th>last_available_death_rate</th>\n",
       "      <th>last_available_deaths</th>\n",
       "      <th>order_for_place</th>\n",
       "      <th>place_type</th>\n",
       "      <th>state</th>\n",
       "      <th>new_confirmed</th>\n",
       "      <th>new_deaths</th>\n",
       "    </tr>\n",
       "  </thead>\n",
       "  <tbody>\n",
       "    <tr>\n",
       "      <th>13818</th>\n",
       "      <td>Espumoso</td>\n",
       "      <td>4307500.0</td>\n",
       "      <td>2020-04-13</td>\n",
       "      <td>16</td>\n",
       "      <td>15588.0</td>\n",
       "      <td>False</td>\n",
       "      <td>False</td>\n",
       "      <td>1</td>\n",
       "      <td>6.41519</td>\n",
       "      <td>2020-04-13</td>\n",
       "      <td>0.0</td>\n",
       "      <td>0</td>\n",
       "      <td>1</td>\n",
       "      <td>city</td>\n",
       "      <td>RS</td>\n",
       "      <td>1</td>\n",
       "      <td>0</td>\n",
       "    </tr>\n",
       "    <tr>\n",
       "      <th>14940</th>\n",
       "      <td>Espumoso</td>\n",
       "      <td>4307500.0</td>\n",
       "      <td>2020-04-14</td>\n",
       "      <td>16</td>\n",
       "      <td>15588.0</td>\n",
       "      <td>False</td>\n",
       "      <td>False</td>\n",
       "      <td>1</td>\n",
       "      <td>6.41519</td>\n",
       "      <td>2020-04-14</td>\n",
       "      <td>0.0</td>\n",
       "      <td>0</td>\n",
       "      <td>2</td>\n",
       "      <td>city</td>\n",
       "      <td>RS</td>\n",
       "      <td>0</td>\n",
       "      <td>0</td>\n",
       "    </tr>\n",
       "    <tr>\n",
       "      <th>16123</th>\n",
       "      <td>Espumoso</td>\n",
       "      <td>4307500.0</td>\n",
       "      <td>2020-04-15</td>\n",
       "      <td>16</td>\n",
       "      <td>15588.0</td>\n",
       "      <td>False</td>\n",
       "      <td>False</td>\n",
       "      <td>1</td>\n",
       "      <td>6.41519</td>\n",
       "      <td>2020-04-15</td>\n",
       "      <td>0.0</td>\n",
       "      <td>0</td>\n",
       "      <td>3</td>\n",
       "      <td>city</td>\n",
       "      <td>RS</td>\n",
       "      <td>0</td>\n",
       "      <td>0</td>\n",
       "    </tr>\n",
       "    <tr>\n",
       "      <th>17370</th>\n",
       "      <td>Espumoso</td>\n",
       "      <td>4307500.0</td>\n",
       "      <td>2020-04-16</td>\n",
       "      <td>16</td>\n",
       "      <td>15588.0</td>\n",
       "      <td>False</td>\n",
       "      <td>False</td>\n",
       "      <td>1</td>\n",
       "      <td>6.41519</td>\n",
       "      <td>2020-04-16</td>\n",
       "      <td>0.0</td>\n",
       "      <td>0</td>\n",
       "      <td>4</td>\n",
       "      <td>city</td>\n",
       "      <td>RS</td>\n",
       "      <td>0</td>\n",
       "      <td>0</td>\n",
       "    </tr>\n",
       "    <tr>\n",
       "      <th>18683</th>\n",
       "      <td>Espumoso</td>\n",
       "      <td>4307500.0</td>\n",
       "      <td>2020-04-17</td>\n",
       "      <td>16</td>\n",
       "      <td>15588.0</td>\n",
       "      <td>False</td>\n",
       "      <td>False</td>\n",
       "      <td>1</td>\n",
       "      <td>6.41519</td>\n",
       "      <td>2020-04-17</td>\n",
       "      <td>0.0</td>\n",
       "      <td>0</td>\n",
       "      <td>5</td>\n",
       "      <td>city</td>\n",
       "      <td>RS</td>\n",
       "      <td>0</td>\n",
       "      <td>0</td>\n",
       "    </tr>\n",
       "  </tbody>\n",
       "</table>\n",
       "</div>"
      ],
      "text/plain": [
       "           city  city_ibge_code       date  epidemiological_week  \\\n",
       "13818  Espumoso       4307500.0 2020-04-13                    16   \n",
       "14940  Espumoso       4307500.0 2020-04-14                    16   \n",
       "16123  Espumoso       4307500.0 2020-04-15                    16   \n",
       "17370  Espumoso       4307500.0 2020-04-16                    16   \n",
       "18683  Espumoso       4307500.0 2020-04-17                    16   \n",
       "\n",
       "       estimated_population_2019  is_last  is_repeated  \\\n",
       "13818                    15588.0    False        False   \n",
       "14940                    15588.0    False        False   \n",
       "16123                    15588.0    False        False   \n",
       "17370                    15588.0    False        False   \n",
       "18683                    15588.0    False        False   \n",
       "\n",
       "       last_available_confirmed  \\\n",
       "13818                         1   \n",
       "14940                         1   \n",
       "16123                         1   \n",
       "17370                         1   \n",
       "18683                         1   \n",
       "\n",
       "       last_available_confirmed_per_100k_inhabitants last_available_date  \\\n",
       "13818                                        6.41519          2020-04-13   \n",
       "14940                                        6.41519          2020-04-14   \n",
       "16123                                        6.41519          2020-04-15   \n",
       "17370                                        6.41519          2020-04-16   \n",
       "18683                                        6.41519          2020-04-17   \n",
       "\n",
       "       last_available_death_rate  last_available_deaths  order_for_place  \\\n",
       "13818                        0.0                      0                1   \n",
       "14940                        0.0                      0                2   \n",
       "16123                        0.0                      0                3   \n",
       "17370                        0.0                      0                4   \n",
       "18683                        0.0                      0                5   \n",
       "\n",
       "      place_type state  new_confirmed  new_deaths  \n",
       "13818       city    RS              1           0  \n",
       "14940       city    RS              0           0  \n",
       "16123       city    RS              0           0  \n",
       "17370       city    RS              0           0  \n",
       "18683       city    RS              0           0  "
      ]
     },
     "execution_count": 4,
     "metadata": {},
     "output_type": "execute_result"
    }
   ],
   "source": [
    "# Understanding the data\n",
    "covid_munic[covid_munic[\"city_ibge_code\"] == 4307500.0].head()"
   ]
  },
  {
   "cell_type": "code",
   "execution_count": 5,
   "metadata": {},
   "outputs": [
    {
     "data": {
      "text/html": [
       "<div>\n",
       "<style scoped>\n",
       "    .dataframe tbody tr th:only-of-type {\n",
       "        vertical-align: middle;\n",
       "    }\n",
       "\n",
       "    .dataframe tbody tr th {\n",
       "        vertical-align: top;\n",
       "    }\n",
       "\n",
       "    .dataframe thead th {\n",
       "        text-align: right;\n",
       "    }\n",
       "</style>\n",
       "<table border=\"1\" class=\"dataframe\">\n",
       "  <thead>\n",
       "    <tr style=\"text-align: right;\">\n",
       "      <th></th>\n",
       "      <th>new_confirmed</th>\n",
       "      <th>new_deaths</th>\n",
       "      <th>estimated_population_2019</th>\n",
       "    </tr>\n",
       "    <tr>\n",
       "      <th>place_type</th>\n",
       "      <th></th>\n",
       "      <th></th>\n",
       "      <th></th>\n",
       "    </tr>\n",
       "  </thead>\n",
       "  <tbody>\n",
       "    <tr>\n",
       "      <th>city</th>\n",
       "      <td>374831</td>\n",
       "      <td>23396</td>\n",
       "      <td>1.087107e+10</td>\n",
       "    </tr>\n",
       "    <tr>\n",
       "      <th>state</th>\n",
       "      <td>376411</td>\n",
       "      <td>23504</td>\n",
       "      <td>1.661970e+10</td>\n",
       "    </tr>\n",
       "  </tbody>\n",
       "</table>\n",
       "</div>"
      ],
      "text/plain": [
       "            new_confirmed  new_deaths  estimated_population_2019\n",
       "place_type                                                      \n",
       "city               374831       23396               1.087107e+10\n",
       "state              376411       23504               1.661970e+10"
      ]
     },
     "execution_count": 5,
     "metadata": {},
     "output_type": "execute_result"
    }
   ],
   "source": [
    "# We have the data in 2 ways, by city (not all in there) and state, watch out to not duplicate\n",
    "# We will use only place_type = \"state\" for this analysis\n",
    "# Population only for the cities with Covid\n",
    "covid_munic.groupby(\"place_type\")[[\"last_available_confirmed\", \"last_available_deatsh\", \"estimated_population_2019\"]].sum()"
   ]
  },
  {
   "cell_type": "code",
   "execution_count": 6,
   "metadata": {},
   "outputs": [
    {
     "name": "stdout",
     "output_type": "stream",
     "text": [
      "Last updated in: 25/05/2020\n"
     ]
    }
   ],
   "source": [
    "print(\"Last updated in: {:%d/%m/%Y}\".format(max(covid_munic[\"date\"])))"
   ]
  },
  {
   "cell_type": "code",
   "execution_count": 7,
   "metadata": {},
   "outputs": [
    {
     "name": "stderr",
     "output_type": "stream",
     "text": [
      "C:\\Users\\Camila\\anaconda3\\lib\\site-packages\\ipykernel_launcher.py:5: FutureWarning: Indexing with multiple keys (implicitly converted to a tuple of keys) will be deprecated, use a list instead.\n",
      "  \"\"\"\n"
     ]
    },
    {
     "data": {
      "text/html": [
       "<div>\n",
       "<style scoped>\n",
       "    .dataframe tbody tr th:only-of-type {\n",
       "        vertical-align: middle;\n",
       "    }\n",
       "\n",
       "    .dataframe tbody tr th {\n",
       "        vertical-align: top;\n",
       "    }\n",
       "\n",
       "    .dataframe thead th {\n",
       "        text-align: right;\n",
       "    }\n",
       "</style>\n",
       "<table border=\"1\" class=\"dataframe\">\n",
       "  <thead>\n",
       "    <tr style=\"text-align: right;\">\n",
       "      <th></th>\n",
       "      <th>state</th>\n",
       "      <th>date</th>\n",
       "      <th>new_confirmed</th>\n",
       "      <th>new_deaths</th>\n",
       "      <th>Cumulative Confirmed</th>\n",
       "      <th>Cumulative Death</th>\n",
       "    </tr>\n",
       "  </thead>\n",
       "  <tbody>\n",
       "    <tr>\n",
       "      <th>1998</th>\n",
       "      <td>TO</td>\n",
       "      <td>2020-05-22</td>\n",
       "      <td>225</td>\n",
       "      <td>2</td>\n",
       "      <td>2430</td>\n",
       "      <td>51</td>\n",
       "    </tr>\n",
       "    <tr>\n",
       "      <th>2001</th>\n",
       "      <td>TO</td>\n",
       "      <td>2020-05-25</td>\n",
       "      <td>266</td>\n",
       "      <td>7</td>\n",
       "      <td>2696</td>\n",
       "      <td>58</td>\n",
       "    </tr>\n",
       "  </tbody>\n",
       "</table>\n",
       "</div>"
      ],
      "text/plain": [
       "     state       date  new_confirmed  new_deaths  Cumulative Confirmed  \\\n",
       "1998    TO 2020-05-22            225           2                  2430   \n",
       "2001    TO 2020-05-25            266           7                  2696   \n",
       "\n",
       "      Cumulative Death  \n",
       "1998                51  \n",
       "2001                58  "
      ]
     },
     "execution_count": 7,
     "metadata": {},
     "output_type": "execute_result"
    }
   ],
   "source": [
    "# We just need it by UF, so let's aggregate them\n",
    "# Only leaving cases where we have at least one confirmed or one death\n",
    "# And then create a cumulative frequency for confirmed cases and death \n",
    "\n",
    "covid_uf = covid_munic[covid_munic[\"place_type\"] == \"state\"].groupby([\"state\", \"date\"])[\"new_confirmed\", \"new_deaths\"].sum().reset_index()\n",
    "\n",
    "covid_uf = covid_uf[(covid_uf[\"new_confirmed\"] > 0) | (covid_uf[\"new_deaths\"] > 0)]\n",
    "\n",
    "covid_uf[\"date\"] = pd.to_datetime(covid_uf['date'], format=\"%Y/%m/%d\")\n",
    "\n",
    "# Adding cumulative\n",
    "covid_uf['Cumulative Confirmed'] = covid_uf.groupby('state')['new_confirmed'].cumsum()\n",
    "covid_uf['Cumulative Death'] = covid_uf.groupby('state')['new_deaths'].cumsum()\n",
    "covid_uf.tail(2)"
   ]
  },
  {
   "cell_type": "code",
   "execution_count": 8,
   "metadata": {},
   "outputs": [
    {
     "name": "stdout",
     "output_type": "stream",
     "text": [
      "First date: 25/02/2020\n",
      "Last updated in: 25/05/2020\n"
     ]
    },
    {
     "data": {
      "text/plain": [
       "new_confirmed    376411\n",
       "new_deaths        23504\n",
       "dtype: int64"
      ]
     },
     "execution_count": 8,
     "metadata": {},
     "output_type": "execute_result"
    }
   ],
   "source": [
    "print(\"First date: {:%d/%m/%Y}\".format(min(covid_uf[\"date\"])))\n",
    "print(\"Last updated in: {:%d/%m/%Y}\".format(max(covid_uf[\"date\"])))\n",
    "covid_uf[[\"new_confirmed\", \"new_deaths\"]].sum()"
   ]
  },
  {
   "cell_type": "code",
   "execution_count": 9,
   "metadata": {},
   "outputs": [
    {
     "data": {
      "text/plain": [
       "date\n",
       "2020-05-16    26\n",
       "2020-05-17    27\n",
       "2020-05-18    27\n",
       "2020-05-19    26\n",
       "2020-05-20    26\n",
       "2020-05-21    25\n",
       "2020-05-22    27\n",
       "2020-05-23    24\n",
       "2020-05-24    25\n",
       "2020-05-25    19\n",
       "Name: state, dtype: int64"
      ]
     },
     "execution_count": 9,
     "metadata": {},
     "output_type": "execute_result"
    }
   ],
   "source": [
    "covid_uf.groupby(\"date\")[\"state\"].count().tail(10)"
   ]
  },
  {
   "cell_type": "code",
   "execution_count": 10,
   "metadata": {},
   "outputs": [
    {
     "name": "stdout",
     "output_type": "stream",
     "text": [
      "We have 25 states with last updated in: 24/05/2020\n"
     ]
    }
   ],
   "source": [
    "# Because we only have 19 states on our last date, we will delete it\n",
    "# Not all states update every day, so 25 should be fine\n",
    "covid_uf = covid_uf[ covid_uf[\"date\"] < max(covid_uf[\"date\"])]\n",
    "# covid_uf = covid_uf[ covid_uf[\"date\"] < max(pd.to_datetime(['2020-05-23'], format=\"%Y/%m/%d\"))]\n",
    "\n",
    "print(\"We have {} states with last updated in: {:%d/%m/%Y}\".\n",
    "      format(covid_uf[covid_uf[\"date\"] == max(covid_uf[\"date\"])] [\"state\"].count(), \n",
    "             max(covid_uf[\"date\"])))"
   ]
  },
  {
   "cell_type": "code",
   "execution_count": 11,
   "metadata": {},
   "outputs": [
    {
     "name": "stdout",
     "output_type": "stream",
     "text": [
      "First confirmed and death in Brasil: 25/02/2020 and 17/03/2020\n"
     ]
    }
   ],
   "source": [
    "# Getting first cases in Brazil for confirmed and death\n",
    "last_updated = max(covid_uf[\"date\"])\n",
    "first_br_confirmed = covid_uf[covid_uf[\"new_confirmed\"] > 0][\"date\"].min()\n",
    "first_br_death = covid_uf[covid_uf[\"new_deaths\"] > 0][\"date\"].min()\n",
    "print(\"First confirmed and death in Brasil: {:%d/%m/%Y} and {:%d/%m/%Y}\".format(first_br_confirmed, first_br_death))"
   ]
  },
  {
   "cell_type": "code",
   "execution_count": 12,
   "metadata": {
    "scrolled": true
   },
   "outputs": [
    {
     "name": "stderr",
     "output_type": "stream",
     "text": [
      "C:\\Users\\Camila\\anaconda3\\lib\\site-packages\\ipykernel_launcher.py:2: FutureWarning: Indexing with multiple keys (implicitly converted to a tuple of keys) will be deprecated, use a list instead.\n",
      "  \n"
     ]
    },
    {
     "data": {
      "text/html": [
       "<div>\n",
       "<style scoped>\n",
       "    .dataframe tbody tr th:only-of-type {\n",
       "        vertical-align: middle;\n",
       "    }\n",
       "\n",
       "    .dataframe tbody tr th {\n",
       "        vertical-align: top;\n",
       "    }\n",
       "\n",
       "    .dataframe thead th {\n",
       "        text-align: right;\n",
       "    }\n",
       "</style>\n",
       "<table border=\"1\" class=\"dataframe\">\n",
       "  <thead>\n",
       "    <tr style=\"text-align: right;\">\n",
       "      <th></th>\n",
       "      <th>new_confirmed</th>\n",
       "      <th>new_deaths</th>\n",
       "      <th>Estado</th>\n",
       "      <th>Region</th>\n",
       "      <th>Death Rate</th>\n",
       "    </tr>\n",
       "    <tr>\n",
       "      <th>state</th>\n",
       "      <th></th>\n",
       "      <th></th>\n",
       "      <th></th>\n",
       "      <th></th>\n",
       "      <th></th>\n",
       "    </tr>\n",
       "  </thead>\n",
       "  <tbody>\n",
       "    <tr>\n",
       "      <th>SP</th>\n",
       "      <td>82161</td>\n",
       "      <td>6163</td>\n",
       "      <td>SP - 82161</td>\n",
       "      <td>Sudeste</td>\n",
       "      <td>7.501126</td>\n",
       "    </tr>\n",
       "    <tr>\n",
       "      <th>TO</th>\n",
       "      <td>2430</td>\n",
       "      <td>51</td>\n",
       "      <td>TO - 2430</td>\n",
       "      <td>Norte</td>\n",
       "      <td>2.098765</td>\n",
       "    </tr>\n",
       "  </tbody>\n",
       "</table>\n",
       "</div>"
      ],
      "text/plain": [
       "       new_confirmed  new_deaths      Estado   Region  Death Rate\n",
       "state                                                            \n",
       "SP             82161        6163  SP - 82161  Sudeste    7.501126\n",
       "TO              2430          51   TO - 2430    Norte    2.098765"
      ]
     },
     "execution_count": 12,
     "metadata": {},
     "output_type": "execute_result"
    }
   ],
   "source": [
    "# Now let's get a summary for the UF\n",
    "covid_uf_summary = covid_uf.groupby(\"state\")[\"new_confirmed\", \"new_deaths\"].sum()\n",
    "\n",
    "#Creating a label for the graph with # cases\n",
    "covid_uf_summary[\"Estado\"] = [' - '.join(i) for i in \n",
    "                              zip(covid_uf_summary.index.values, covid_uf_summary[\"new_confirmed\"].map(str) )]\n",
    "\n",
    "# Create Region\n",
    "region = {'AC': \"Norte\", 'AM': \"Norte\", 'AP': \"Norte\", 'PA': \"Norte\", 'RO': \"Norte\", 'RR': \"Norte\", 'TO': \"Norte\",\n",
    "          'AL': \"Nordeste\", 'BA': \"Nordeste\", 'CE': \"Nordeste\", 'MA': \"Nordeste\", 'PB': \"Nordeste\", 'PE': \"Nordeste\", \n",
    "          'PI': \"Nordeste\", 'RN': \"Nordeste\", 'SE': \"Nordeste\", \n",
    "          'DF': \"Centro Oeste\", 'GO': \"Centro Oeste\", 'MS': \"Centro Oeste\", 'MT': \"Centro Oeste\",\n",
    "          'ES': \"Sudeste\", 'MG': \"Sudeste\", 'RJ': \"Sudeste\", 'SP': \"Sudeste\",\n",
    "          'PR': \"Sul\", 'SC': \"Sul\", 'RS': \"Sul\"}\n",
    "\n",
    "covid_uf_summary['Region'] = covid_uf_summary.index.to_series().map(region)\n",
    "# .apply(lambda x: region[x[\"state\"]], axis=1)\n",
    "\n",
    "covid_uf_summary['Death Rate'] = covid_uf_summary[\"new_deaths\"] / covid_uf_summary[\"new_confirmed\"] * 100\n",
    "\n",
    "covid_uf_summary.tail(2)"
   ]
  },
  {
   "cell_type": "code",
   "execution_count": 13,
   "metadata": {},
   "outputs": [
    {
     "data": {
      "text/plain": [
       "new_confirmed                                               365674\n",
       "new_deaths                                                   22850\n",
       "Estado           AC - 4160AL - 6214AM - 29867AP - 6353BA - 1389...\n",
       "Region           NorteNordesteNorteNorteNordesteNordesteCentro ...\n",
       "Death Rate                                                 112.994\n",
       "dtype: object"
      ]
     },
     "execution_count": 13,
     "metadata": {},
     "output_type": "execute_result"
    }
   ],
   "source": [
    "covid_uf_summary.sum()"
   ]
  },
  {
   "cell_type": "code",
   "execution_count": 14,
   "metadata": {},
   "outputs": [
    {
     "data": {
      "text/html": [
       "<div>\n",
       "<style scoped>\n",
       "    .dataframe tbody tr th:only-of-type {\n",
       "        vertical-align: middle;\n",
       "    }\n",
       "\n",
       "    .dataframe tbody tr th {\n",
       "        vertical-align: top;\n",
       "    }\n",
       "\n",
       "    .dataframe thead th {\n",
       "        text-align: right;\n",
       "    }\n",
       "</style>\n",
       "<table border=\"1\" class=\"dataframe\">\n",
       "  <thead>\n",
       "    <tr style=\"text-align: right;\">\n",
       "      <th></th>\n",
       "      <th>new_confirmed</th>\n",
       "      <th>new_deaths</th>\n",
       "      <th>Estado</th>\n",
       "      <th>Region</th>\n",
       "      <th>Death Rate</th>\n",
       "      <th>Date Case 1 in UF</th>\n",
       "      <th>Date first death in UF</th>\n",
       "      <th>Dias entre Caso 1 brasileiro e Caso 1 na UF</th>\n",
       "      <th>Dias entre Caso 1 brasileiro e morte na UF</th>\n",
       "      <th>Dias entre Caso 1 e morte na UF</th>\n",
       "    </tr>\n",
       "    <tr>\n",
       "      <th>state</th>\n",
       "      <th></th>\n",
       "      <th></th>\n",
       "      <th></th>\n",
       "      <th></th>\n",
       "      <th></th>\n",
       "      <th></th>\n",
       "      <th></th>\n",
       "      <th></th>\n",
       "      <th></th>\n",
       "      <th></th>\n",
       "    </tr>\n",
       "  </thead>\n",
       "  <tbody>\n",
       "    <tr>\n",
       "      <th>SP</th>\n",
       "      <td>82161</td>\n",
       "      <td>6163</td>\n",
       "      <td>SP - 82161</td>\n",
       "      <td>Sudeste</td>\n",
       "      <td>7.501126</td>\n",
       "      <td>2020-02-25</td>\n",
       "      <td>2020-03-17</td>\n",
       "      <td>0</td>\n",
       "      <td>21</td>\n",
       "      <td>21</td>\n",
       "    </tr>\n",
       "    <tr>\n",
       "      <th>TO</th>\n",
       "      <td>2430</td>\n",
       "      <td>51</td>\n",
       "      <td>TO - 2430</td>\n",
       "      <td>Norte</td>\n",
       "      <td>2.098765</td>\n",
       "      <td>2020-03-18</td>\n",
       "      <td>2020-04-15</td>\n",
       "      <td>22</td>\n",
       "      <td>50</td>\n",
       "      <td>28</td>\n",
       "    </tr>\n",
       "  </tbody>\n",
       "</table>\n",
       "</div>"
      ],
      "text/plain": [
       "       new_confirmed  new_deaths      Estado   Region  Death Rate  \\\n",
       "state                                                               \n",
       "SP             82161        6163  SP - 82161  Sudeste    7.501126   \n",
       "TO              2430          51   TO - 2430    Norte    2.098765   \n",
       "\n",
       "      Date Case 1 in UF Date first death in UF  \\\n",
       "state                                            \n",
       "SP           2020-02-25             2020-03-17   \n",
       "TO           2020-03-18             2020-04-15   \n",
       "\n",
       "       Dias entre Caso 1 brasileiro e Caso 1 na UF  \\\n",
       "state                                                \n",
       "SP                                               0   \n",
       "TO                                              22   \n",
       "\n",
       "       Dias entre Caso 1 brasileiro e morte na UF  \\\n",
       "state                                               \n",
       "SP                                             21   \n",
       "TO                                             50   \n",
       "\n",
       "       Dias entre Caso 1 e morte na UF  \n",
       "state                                   \n",
       "SP                                  21  \n",
       "TO                                  28  "
      ]
     },
     "execution_count": 14,
     "metadata": {},
     "output_type": "execute_result"
    }
   ],
   "source": [
    "# Now we create the Dates and days since that we want\n",
    "covid_uf_summary[\"Date Case 1 in UF\"] = covid_uf[covid_uf[\"new_confirmed\"] > 0].groupby(\"state\")[\"date\"].min()\n",
    "covid_uf_summary[\"Date first death in UF\"] = covid_uf[covid_uf[\"new_deaths\"] > 0].groupby(\"state\")[\"date\"].min()\n",
    "covid_uf_summary[\"Dias entre Caso 1 brasileiro e Caso 1 na UF\"] = (covid_uf_summary[\"Date Case 1 in UF\"] - first_br_confirmed).dt.days\n",
    "covid_uf_summary[\"Dias entre Caso 1 brasileiro e morte na UF\"] = (covid_uf_summary[\"Date first death in UF\"] - first_br_confirmed).dt.days\n",
    "covid_uf_summary[\"Dias entre Caso 1 e morte na UF\"] = (covid_uf_summary[\"Date first death in UF\"] - covid_uf_summary[\"Date Case 1 in UF\"]).dt.days\n",
    "    \n",
    "covid_uf_summary.tail(2)"
   ]
  },
  {
   "cell_type": "code",
   "execution_count": 15,
   "metadata": {},
   "outputs": [],
   "source": [
    "# Function to add the label\n",
    "def labeling(ax, has_digits):\n",
    "    \n",
    "    for rect in ax.patches:\n",
    "        # Find where everything is located\n",
    "        height = rect.get_height()\n",
    "        width = rect.get_width()\n",
    "        x = rect.get_x()\n",
    "        y = rect.get_y()\n",
    "\n",
    "        # The width of the bar is the data value and can used as the label\n",
    "        if has_digits != 0:\n",
    "            label_text = f'{width/100:.1%}'\n",
    "        else:\n",
    "            label_text = f'{width:.0f}'  # f'{height:.2f}' to format decimal values\n",
    "        \n",
    "        if np.isnan(x) == False and np.isnan(y) == False and width > 0:\n",
    "            label_x = x + width - 0.2  # adjust 0.2 to center the label\n",
    "            label_y = y + height / 2\n",
    "            ax.text(label_x, label_y, label_text, ha='right', va='center', fontsize=9, color='white', fontname='MS Gothic')\n",
    "\n",
    "# Formatting the graph\n",
    "def graph_features(ax, fig, has_digits=0):\n",
    "    # Put the value labels\n",
    "    labeling(ax, has_digits)\n",
    "    \n",
    "#     # Adding legend on the bottom\n",
    "#     handles, labels = plt.gca().get_legend_handles_labels()\n",
    "#     order = list(range(1, len(columns_for_graph) + 1))\n",
    "#     order.extend([0])\n",
    "    \n",
    "#     leg = plt.legend([handles[idx] for idx in order],[labels[idx] for idx in order]\n",
    "#                , bbox_to_anchor=(0.45, -0.15), ncol=3, loc='lower center'\n",
    "#                , facecolor = 'white', frameon=False)    \n",
    "#     for text in leg.get_texts():\n",
    "#         plt.setp(text, color = 'w')\n",
    "    ax.get_legend().remove()\n",
    "    \n",
    "    # Taking out boarders and grid - Changing color of grid and background\n",
    "    ax.spines['right'].set_visible(False)\n",
    "    ax.spines['top'].set_visible(False)\n",
    "    ax.grid(color='#A9A9A9', axis = 'x', linewidth=0.5)\n",
    "    ax.set_facecolor('#696969') # #696969\n",
    "    fig.set_facecolor(\"black\")\n",
    "    ax.tick_params(axis='x', colors=\"white\")\n",
    "    ax.tick_params(axis='y', colors=\"white\")\n",
    "\n",
    "    # Getting titles right\n",
    "    plt.suptitle('Dias até a primeira morte na UF'\n",
    "                 , fontsize=16, fontname='MS Gothic', color = 'white')\n",
    "    plt.title('Atualizado em {:%d/%m/%Y}'.format(last_updated)\n",
    "              , fontsize=10, fontname='MS Gothic', color = 'white')\n",
    "    plt.ylabel('Estado', fontname='MS Gothic')\n",
    "    plt.xlabel('Dias', fontname='MS Gothic')\n",
    "\n",
    "    # Add logo\n",
    "    \n",
    "    im = matplotlib.image.imread(path+'\\logo\\marca BRANCA_vertical.png')\n",
    "    newax = fig.add_axes([0.81, 0.8, 0.2, 0.2], anchor='NE', frameon = False)\n",
    "    newax.imshow(im)\n",
    "    newax.axis('off')\n",
    "# # The one below puts inside the axis\n",
    "#     logo_position = ax.get_xlim()[1] * 0.91\n",
    "#     imagebox = matplotlib.offsetbox.OffsetImage(im, zoom=0.0175)\n",
    "#     ab = matplotlib.offsetbox.AnnotationBbox(imagebox, (logo_position, -0.2), frameon = False)\n",
    "#     ax.add_artist(ab)\n",
    "    \n",
    "    # Final touch\n",
    "    fig.tight_layout()\n",
    "    fig.subplots_adjust(top=0.91)"
   ]
  },
  {
   "cell_type": "code",
   "execution_count": 16,
   "metadata": {},
   "outputs": [
    {
     "name": "stderr",
     "output_type": "stream",
     "text": [
      "C:\\Users\\Camila\\anaconda3\\lib\\site-packages\\ipykernel_launcher.py:69: UserWarning: This figure includes Axes that are not compatible with tight_layout, so results might be incorrect.\n"
     ]
    },
    {
     "data": {
      "image/png": "[encoded data removed]",
      "text/plain": [
       "<Figure size 576x576 with 2 Axes>"
      ]
     },
     "metadata": {},
     "output_type": "display_data"
    }
   ],
   "source": [
    "colors = [\"#A09F9E\", \"#6B8E23\", \"#8da341\", \"#c7b65f\", \"#FFD453\", \"#F7A400\", \"#CA5C4A\", \"#991f2a\"]\n",
    "\n",
    "covid_uf_summary.sort_values(by=\"Dias entre Caso 1 e morte na UF\", ascending = False, inplace=True)\n",
    "\n",
    "fig, ax = plt.subplots(figsize=(8,8))\n",
    "\n",
    "rects = covid_uf_summary.plot.barh(x=\"Estado\",y=\"Dias entre Caso 1 e morte na UF\", ax=ax, color = colors[::-1][0] )\n",
    "\n",
    "graph_features(ax, fig)\n",
    "\n",
    "plt.savefig('Letalidade_dias_ate_1amorte_por_uf.png', facecolor=\"black\")"
   ]
  },
  {
   "cell_type": "code",
   "execution_count": 20,
   "metadata": {},
   "outputs": [
    {
     "name": "stderr",
     "output_type": "stream",
     "text": [
      "C:\\Users\\Camila\\anaconda3\\lib\\site-packages\\ipykernel_launcher.py:69: UserWarning: This figure includes Axes that are not compatible with tight_layout, so results might be incorrect.\n"
     ]
    },
    {
     "data": {
      "image/png": "[encoded data removed]",
      "text/plain": [
       "<Figure size 576x576 with 2 Axes>"
      ]
     },
     "metadata": {},
     "output_type": "display_data"
    }
   ],
   "source": [
    "colors = [\"#A09F9E\", \"#6B8E23\", \"#8da341\", \"#c7b65f\", \"#FFD453\", \"#F7A400\", \"#CA5C4A\", \"#991f2a\"]\n",
    "my_cmap = colors[::-1][:4]\n",
    "my_cmap_rgba = list(map(lambda c: matplotlib.colors.to_rgba(c), my_cmap))\n",
    "\n",
    "covid_uf_summary.sort_values(by=\"Dias entre Caso 1 e morte na UF\", ascending = False, inplace=True)\n",
    "\n",
    "color_cases = covid_uf_summary.reset_index()[\"new_confirmed\"].tolist()\n",
    "for row, cases in enumerate(color_cases):\n",
    "    if cases >= 30000:\n",
    "        color_cases[row] = my_cmap[0]\n",
    "    elif cases >= 10000:\n",
    "        color_cases[row] = my_cmap[1]\n",
    "    elif cases >= 5000:\n",
    "        color_cases[row] = my_cmap[2]\n",
    "    else: color_cases[row] = my_cmap[3]\n",
    "\n",
    "\n",
    "        \n",
    "fig, ax = plt.subplots(figsize=(8,8))\n",
    "\n",
    "rects = covid_uf_summary.plot.barh(x=\"Estado\",y=\"Dias entre Caso 1 e morte na UF\", ax=ax, color = color_cases)\n",
    "\n",
    "graph_features(ax, fig)\n",
    "\n",
    "\n",
    "label=[\"0-5.000 casos\", \"5.001-10.000 casos\", \"10.000-30.000 casos\", \"Acima de 30.000 casos\"]\n",
    "patch0 = matplotlib.patches.Patch(color=my_cmap_rgba[0], label=label[0])\n",
    "patch1 = matplotlib.patches.Patch(color=my_cmap_rgba[1], label=label[1])\n",
    "patch2 = matplotlib.patches.Patch(color=my_cmap_rgba[2], label=label[2])\n",
    "patch3 = matplotlib.patches.Patch(color=my_cmap_rgba[3], label=label[3])\n",
    "plt.legend(handles=[patch0, patch1, patch2, patch3], loc='center right')  \n",
    "\n",
    "\n",
    "plt.savefig('Letalidade_dias_ate_1amorte_por_uf_colorido.png', facecolor=\"black\")"
   ]
  },
  {
   "cell_type": "code",
   "execution_count": 18,
   "metadata": {},
   "outputs": [
    {
     "name": "stderr",
     "output_type": "stream",
     "text": [
      "C:\\Users\\Camila\\anaconda3\\lib\\site-packages\\ipykernel_launcher.py:69: UserWarning: This figure includes Axes that are not compatible with tight_layout, so results might be incorrect.\n"
     ]
    },
    {
     "data": {
      "image/png": "[encoded data removed]",
      "text/plain": [
       "<Figure size 576x576 with 2 Axes>"
      ]
     },
     "metadata": {},
     "output_type": "display_data"
    }
   ],
   "source": [
    "from matplotlib.colors import Normalize\n",
    "colors = [\"#A09F9E\", \"#6B8E23\", \"#8da341\", \"#c7b65f\", \"#FFD453\", \"#F7A400\", \"#CA5C4A\", \"#991f2a\"]\n",
    "my_cmap = colors[::-1][:4]\n",
    "\n",
    "covid_uf_summary.sort_values(by=\"Death Rate\", ascending = False, inplace=True)\n",
    "\n",
    "color_cases = covid_uf_summary.reset_index()[\"new_confirmed\"].tolist()\n",
    "for row, cases in enumerate(color_cases):\n",
    "    if cases > 30000:\n",
    "        color_cases[row] = my_cmap[0]\n",
    "    elif cases > 10000:\n",
    "        color_cases[row] = my_cmap[1]\n",
    "    elif cases > 5000:\n",
    "        color_cases[row] = my_cmap[2]\n",
    "    else: color_cases[row] = my_cmap[3]\n",
    "\n",
    "fig, ax = plt.subplots(figsize=(8,8))\n",
    "\n",
    "rects = covid_uf_summary.plot.barh(x=\"Estado\",y=\"Death Rate\", ax=ax, color = color_cases)\n",
    "\n",
    "graph_features(ax, fig, 1)\n",
    "\n",
    "plt.suptitle('Letalidade por UF'\n",
    "                 , fontsize=16, fontname='MS Gothic', color = 'white')\n",
    "\n",
    "\n",
    "plt.savefig('Letalidade_porcentagem_por_uf.png', facecolor=\"black\")"
   ]
  },
  {
   "cell_type": "code",
   "execution_count": null,
   "metadata": {},
   "outputs": [],
   "source": []
  }
 ],
 "metadata": {
  "kernelspec": {
   "display_name": "Python 3",
   "language": "python",
   "name": "python3"
  },
  "language_info": {
   "codemirror_mode": {
    "name": "ipython",
    "version": 3
   },
   "file_extension": ".py",
   "mimetype": "text/x-python",
   "name": "python",
   "nbconvert_exporter": "python",
   "pygments_lexer": "ipython3",
   "version": "3.7.6"
  }
 },
 "nbformat": 4,
 "nbformat_minor": 4
}
